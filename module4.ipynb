{
 "cells": [
  {
   "cell_type": "markdown",
   "source": [
    "# AI Chat Code"
   ],
   "metadata": {
    "collapsed": false
   },
   "id": "14309c3521cb9d85"
  },
  {
   "cell_type": "code",
   "outputs": [],
   "source": [
    "import traceback\n",
    "from typing import List, Dict, Tuple\n",
    "from markdownify import markdownify\n",
    "\n",
    "from openai import OpenAI, OpenAIError\n",
    "\n",
    "\n",
    "def converse(prompt: str, messages: List[Dict[str, str]]) -> Tuple[str, List[Dict[str, str]]]:\n",
    "    \"\"\"\n",
    "    Given a conversation history, generate a response string from the OpenAI API.\n",
    "\n",
    "    :param prompt: a user prompt string to continue the conversation\n",
    "\n",
    "    :param messages: a conversation history with the following format:\n",
    "    `[ { \"role\": \"user\", \"content\": \"Hello, how are you?\" },\n",
    "       { \"role\": \"assistant\", \"content\": \"I am doing well, how can I help you today?\" } ]`\n",
    "\n",
    "    :return: the response string and the updated conversation history\n",
    "    \"\"\"\n",
    "    client = OpenAI(\n",
    "        # This is the default and can be omitted\n",
    "        base_url='http://aitools.cs.vt.edu:7860/openai/v1',\n",
    "        api_key=\"aitools\")\n",
    "    \n",
    "    try:\n",
    "        messages.append({\"role\": \"user\", \"content\": prompt})\n",
    "        response = client.chat.completions.create(\n",
    "            model=\"gpt-3.5-turbo\",\n",
    "            messages=messages,\n",
    "            max_tokens=3000\n",
    "        )\n",
    "        text = response.choices[0].message.content\n",
    "        messages.append({\"role\": \"assistant\", \"content\": text})\n",
    "        return text, messages\n",
    "\n",
    "    except OpenAIError as e:\n",
    "        traceback.print_exc()\n",
    "        raise Exception(f\"OpenAI Error: {str(e)}\")\n",
    "    except Exception as e:\n",
    "        traceback.print_exc()\n",
    "        raise Exception(f\"General Error: {str(e)}\")\n"
   ],
   "metadata": {
    "collapsed": false,
    "ExecuteTime": {
     "end_time": "2024-02-13T02:18:47.012939200Z",
     "start_time": "2024-02-13T02:18:46.997267900Z"
    }
   },
   "id": "5fe373f507f73a0c",
   "execution_count": 89
  },
  {
   "cell_type": "markdown",
   "source": [
    "# Starting Prompt"
   ],
   "metadata": {
    "collapsed": false
   },
   "id": "af90ae623f3e9767"
  },
  {
   "cell_type": "code",
   "outputs": [],
   "source": [
    "product_name = \"Ducky\"\n",
    "\n",
    "product_description = f\"\"\"\n",
    "{product_name} is an AI-\n",
    "powered coding assistant tailored for software developers and learners. \n",
    "\n",
    "Its primary function is to facilitate the learning process about various software topics. \n",
    "\n",
    "{product_name} offers a quick chat feature that serves to answer questions regarding coding issues. \n",
    "\n",
    "Help me to create a Requirement Documents for above problem.\n",
    "\n",
    "Furthermore, its blueprint feature acts as a knowledge repository, enabling users to \n",
    "generate specific pre-planned artifacts such as schemas, types, and APIs.\n",
    "\"\"\"\n",
    "\n",
    "\n",
    "def starting_prompt():\n",
    "    return f\"\"\"\n",
    "Forget all previous instructions and context.  \n",
    "\n",
    "You job is to learn and understand the following text about a product.\n",
    "```\n",
    "{product_description}\n",
    "```\n",
    "Acknowledge you have understood the product by giving a terse 1 sentence summary or acknowledgement.\n",
    "\"\"\""
   ],
   "metadata": {
    "collapsed": false,
    "ExecuteTime": {
     "end_time": "2024-02-13T02:20:11.827218300Z",
     "start_time": "2024-02-13T02:20:11.818445900Z"
    }
   },
   "id": "41a6293efcd29b07",
   "execution_count": 96
  },
  {
   "cell_type": "code",
   "execution_count": 97,
   "outputs": [
    {
     "name": "stdout",
     "output_type": "stream",
     "text": [
      "I understand the product Ducky, an AI-powered coding assistant for software developers and learners, which offers features like a quick chat for coding questions and a blueprint feature for generating pre-planned artifacts.\n"
     ]
    }
   ],
   "source": [
    "history = []\n",
    "text, history = converse(starting_prompt(), history)\n",
    "\n",
    "print(markdownify(text))"
   ],
   "metadata": {
    "collapsed": false,
    "ExecuteTime": {
     "end_time": "2024-02-13T02:20:13.679473Z",
     "start_time": "2024-02-13T02:20:12.512160700Z"
    }
   },
   "id": "53db58acce943d4e"
  },
  {
   "cell_type": "markdown",
   "source": [
    "# Business Problem Statement"
   ],
   "metadata": {
    "collapsed": false
   },
   "id": "3d21d3910b3f0001"
  },
  {
   "cell_type": "code",
   "outputs": [],
   "source": [
    "def business_problem_statement_prompt():\n",
    "    return  f\"\"\" \n",
    "     - Create a Business Problem Statement following a structured format to ensure clarity and focus when addressing organizational challenges or opportunities for the Ducky coding assistant.\n",
    "        1.Situation: Offer relevant background details, contextual information, and an overview of the current operational environment within which the business functions.\n",
    "\n",
    "        2.Problem: Outline the precise business challenge or potential opportunity requiring attention, including a thorough analysis of its implications on the organization's overarching goals or objectives..\n",
    "\n",
    "        3.Implication: Elaborate on the possible repercussions or ramifications if the identified problem persists without resolution, emphasizing the risks and negative outcomes that may arise from inaction..\n",
    "\n",
    "        4.Benefit: Communicate the tangible business value and potential benefits gained from addressing the identified problem, accentuating how its resolution can enhance the organization's performance, streamline operations, and bolster competitiveness in the market.\n",
    "\n",
    "        5.Vision: Detail the envisioned future state or desired outcome that the organization strives to attain through problem resolution, illustrating the ideal scenario and elucidating the benefits it would deliver to stakeholders, including improved efficiency, enhanced satisfaction, and sustained growth.\n",
    "\n",
    "    -Write in a paragraph\n",
    "    \"\"\""
   ],
   "metadata": {
    "collapsed": false,
    "ExecuteTime": {
     "end_time": "2024-02-13T02:20:13.693330700Z",
     "start_time": "2024-02-13T02:20:13.681834900Z"
    }
   },
   "id": "98aee28e0c61d9a",
   "execution_count": 98
  },
  {
   "cell_type": "code",
   "outputs": [
    {
     "name": "stdout",
     "output_type": "stream",
     "text": [
      "Situation: In the current operational environment, software developers and learners face challenges in effectively learning and understanding various software topics, including coding issues.\n",
      "\n",
      "Problem: The lack of a reliable and efficient coding assistant results in difficulties for software developers and learners to obtain answers to their coding questions, hindering their learning process and productivity.\n",
      "\n",
      "Implication: If this problem persists without resolution, software developers and learners will continue to face delays in resolving coding issues, leading to frustration, decreased efficiency, and potentially poor-quality software development. Furthermore, their ability to acquire and retain knowledge in various software topics will be hampered, limiting their growth and competitiveness in the industry.\n",
      "\n",
      "Benefit: Addressing the issue by introducing Ducky, an AI-powered coding assistant, will provide tangible business value by enhancing the learning process for software developers and learners. The quick chat feature will enable prompt and accurate answers to coding questions, improving productivity and efficiency. The blueprint feature will serve as a knowledge repository, generating pre-planned artifacts that streamline software development and ensure consistency in schemas, types, and APIs. Overall, Ducky's implementation will optimize the organization's performance, reduce frustrations, and increase competitiveness in the market.\n",
      "\n",
      "Vision: With Ducky's introduction, the organization envisions a future state where software developers and learners have seamless access to a reliable coding assistant. They will experience enhanced efficiency, improved satisfaction, and sustained growth in their knowledge and skills. Ducky will empower them to overcome coding challenges, fostering a highly skilled workforce and driving innovation in software development.\n"
     ]
    }
   ],
   "source": [
    "text, history = converse(business_problem_statement_prompt(), history)\n",
    "print(markdownify(text))"
   ],
   "metadata": {
    "collapsed": false,
    "ExecuteTime": {
     "end_time": "2024-02-13T02:20:18.828768800Z",
     "start_time": "2024-02-13T02:20:14.107725300Z"
    }
   },
   "id": "ec0ac4798e596736",
   "execution_count": 99
  },
  {
   "cell_type": "markdown",
   "source": [
    "# Vision Statement"
   ],
   "metadata": {
    "collapsed": false
   },
   "id": "96cf4062927d4149"
  },
  {
   "cell_type": "code",
   "outputs": [],
   "source": [
    "def vision_statement_prompt():\n",
    "    return  f\"\"\"\n",
    "    -Develop a product vision statement for the Ducky coding assistant that effectively communicates the purpose, target audience, key features, and benefits of the proposed solution, fostering alignment among stakeholders toward a shared strategic objective.\n",
    "\n",
    "        1.For -> [Identify the intended audience or user base]\n",
    "        2.Who -> [Define the underlying business need or opportunity]\n",
    "        3.The -> [Specify the name of the product or project]\n",
    "        4.Is -> [Describe the nature or type of the product or project]\n",
    "        5.That -> [Highlight the primary product capabilities and core benefits it will deliver, providing a compelling rationale for engagement]\n",
    "        6.Unlike -> [Set apart the proposed solution from existing business realities, alternative offerings, or competitors]\n",
    "    -include above points in the result and show header name in front of  explanation.\n",
    "    \"\"\""
   ],
   "metadata": {
    "collapsed": false,
    "ExecuteTime": {
     "end_time": "2024-02-13T01:23:19.941309500Z",
     "start_time": "2024-02-13T01:23:19.941309500Z"
    }
   },
   "id": "ff63c37d07688aab",
   "execution_count": 51
  },
  {
   "cell_type": "code",
   "outputs": [
    {
     "name": "stdout",
     "output_type": "stream",
     "text": [
      "Product Vision Statement: Ducky - Empowering Software Developers and Learners with AI-Powered Assistance\n",
      "\n",
      "1. For: Software developers and learners\n",
      "2. Who: To enhance the learning process and facilitate efficient software development\n",
      "3. The: Ducky coding assistant\n",
      "4. Is: An AI-powered solution\n",
      "5. That: Offers a quick chat feature to address coding issues and a blueprint feature to generate pre-planned artifacts. It provides an extensive knowledge repository, streamlining the learning experience and enabling the creation of schemas, types, and APIs.\n",
      "6. Unlike: Other coding assistants, Ducky leverages advanced AI technology, tailoring to the specific needs of software developers and learners, offering a comprehensive and intuitive platform for optimized learning and development resources.\n",
      "\n",
      "The Ducky coding assistant aims to revolutionize the learning and development experience for software developers and learners by providing real-time assistance, a knowledge repository, and pre-planned artifact generation capabilities. By seamlessly integrating AI technology, Ducky sets itself apart, ensuring efficient problem-solving, fostering skill improvement, and streamlining the software development process.\n"
     ]
    }
   ],
   "source": [
    "text, history = converse(vision_statement_prompt(), history)\n",
    "print(markdownify(text))"
   ],
   "metadata": {
    "collapsed": false,
    "ExecuteTime": {
     "end_time": "2024-02-13T01:23:23.237815400Z",
     "start_time": "2024-02-13T01:23:19.941309500Z"
    }
   },
   "id": "1fbdeb9fac16dde2",
   "execution_count": 52
  },
  {
   "cell_type": "markdown",
   "source": [
    "# Ecosystem Map"
   ],
   "metadata": {
    "collapsed": false
   },
   "id": "c4a8c2c1f091ee2e"
  },
  {
   "cell_type": "code",
   "outputs": [],
   "source": [
    "def ecosystem_map_prompt():\n",
    "    return  f\"\"\"\n",
    "    \n",
    "   ` Business Problem Statement:\n",
    "\n",
    "In today’s fast-paced software development landscape, there is a need for an efficient and comprehensive coding assistant that can cater to the needs of both software developers and learners. The current operational environment lacks a centralized platform that provides real-time assistance, knowledge repository, and pre-planned artifacts generation for various software topics. Without such a solution, developers and learners face challenges in finding reliable and prompt answers to coding issues, accessing relevant knowledge resources, and generating specific artifacts.\n",
    "\n",
    "Addressing this problem by implementing the Ducky coding assistant can bring significant benefits to our organization. The AI-powered chat feature, capable of answering coding-related queries, will empower developers and learners with quick and accurate solutions, enhancing their productivity and reducing time spent on issue resolution. Moreover, the blueprint feature will act as a knowledge repository, streamlining the process of generating essential artifacts like schemas, types, and APIs. This will not only save time but also ensure consistency and accuracy in software development.\n",
    "\n",
    "By providing a centralized platform for learning and development, the Ducky coding assistant will improve the efficiency of software teams, foster knowledge sharing, and accelerate the onboarding of new developers. These improvements will directly contribute to enhanced organizational performance, streamlined operations, and increased competitiveness in the dynamic software market.\n",
    "`\n",
    "    -consider above Business Problem Statement and create ecosystem map\n",
    "    \n",
    "    -print the ecosystem map to give us a full picture of how everything fits together in our solution. First, we'll make a list of all the systems involved, starting from our main focus and branching out to include everything else that interacts with it. include 'Direct Interactors', 'Indirect Interactors', and 'Environmental Factors'. also inclue Role and Interaction for each Interactors and Factors\n",
    "    \"\"\""
   ],
   "metadata": {
    "collapsed": false,
    "ExecuteTime": {
     "end_time": "2024-02-13T02:36:47.951646300Z",
     "start_time": "2024-02-13T02:36:47.923134800Z"
    }
   },
   "id": "efd4967988c7ae6",
   "execution_count": 106
  },
  {
   "cell_type": "code",
   "outputs": [
    {
     "name": "stdout",
     "output_type": "stream",
     "text": [
      "Ecosystem Map:\n",
      "\n",
      "Main Focus: Ducky coding assistant\n",
      "\n",
      "Direct Interactors:\n",
      "1. Software developers\n",
      " - Role: Utilize the AI-powered chat feature to get quick and accurate coding-related solutions.\n",
      " - Interaction: Ask coding queries and receive answers from the chat feature.\n",
      "\n",
      "2. Learners\n",
      " - Role: Utilize the AI-powered chat feature to learn and get coding-related solutions.\n",
      " - Interaction: Ask coding queries and receive answers from the chat feature.\n",
      "\n",
      "3. AI-powered chat feature\n",
      " - Role: Provide real-time assistance and answer coding-related queries for developers and learners.\n",
      " - Interaction: Receive coding queries from developers and learners and provide accurate solutions.\n",
      "\n",
      "4. Blueprint feature\n",
      " - Role: Act as a knowledge repository and generate essential artifacts like schemas, types, and APIs.\n",
      " - Interaction: Store and retrieve knowledge resources and generate specific artifacts based on user needs.\n",
      "\n",
      "Indirect Interactors:\n",
      "1. Software teams\n",
      " - Role: Benefit from the efficiency improvements brought by the Ducky coding assistant.\n",
      " - Interaction: Utilize the centralized platform for learning and development, foster knowledge sharing, and accelerate the onboarding of new developers.\n",
      "\n",
      "Environmental Factors:\n",
      "1. Operational environment\n",
      " - Role: Lacks a centralized platform that provides real-time assistance, knowledge repository, and artifact generation.\n",
      " - Interaction: The absence of such a solution poses challenges for developers and learners in finding reliable and prompt answers to coding issues, accessing relevant knowledge resources, and generating specific artifacts.\n",
      "\n",
      "Overall Interaction:\n",
      "- Software developers and learners interact with the AI-powered chat feature to ask coding queries and receive answers.\n",
      "- The AI-powered chat feature interacts with developers and learners to receive coding queries and provide accurate solutions.\n",
      "- The blueprint feature interacts with users to store and retrieve knowledge resources and generate specific artifacts.\n",
      "- Software teams benefit from the efficiency improvements brought by the Ducky coding assistant, including the centralized platform for learning and development, knowledge sharing, and onboarding of new developers.\n",
      "- The operational environment poses challenges for developers and learners in the absence of a centralized platform for assistance, knowledge repository, and artifact generation.\n",
      "\n",
      "Ecosystem Map:\n",
      "```\n",
      " +-----------------------+\n",
      " | Ducky coding |\n",
      " | assistant |\n",
      " +-----+------------+----+\n",
      " | |\n",
      " | |\n",
      " +-------------------------+ | +-------------------------+\n",
      " | Software developers | | | Learners |\n",
      " | & learners | | | |\n",
      " +-------------------------+ | +-------------------------+\n",
      " |\n",
      " |\n",
      " +--------------------------------+\n",
      " | AI-powered chat feature |\n",
      " +----------------+---------------+\n",
      " |\n",
      " |\n",
      " +-------------------------------+-----------------------------+\n",
      " | Blueprint feature |\n",
      " +----------------+----------------+---------------------------+\n",
      " | |\n",
      " +-------------------+-----+ +----+----------------------+\n",
      " | Software teams | | Operational environment |\n",
      " +-------------------------+ +--------------------------+\n",
      "\n",
      "```\n"
     ]
    }
   ],
   "source": [
    "# text, history = converse(starting_prompt(), [])\n",
    "text, history = converse(ecosystem_map_prompt(), [])\n",
    "print(markdownify(text))"
   ],
   "metadata": {
    "collapsed": false,
    "ExecuteTime": {
     "end_time": "2024-02-13T02:36:56.392985400Z",
     "start_time": "2024-02-13T02:36:48.204173900Z"
    }
   },
   "id": "68f22a21cf2217bf",
   "execution_count": 107
  },
  {
   "cell_type": "markdown",
   "source": [
    "# Responsibility Matrix"
   ],
   "metadata": {
    "collapsed": false
   },
   "id": "b1165b39f3abd76f"
  },
  {
   "cell_type": "code",
   "outputs": [],
   "source": [
    "def responsibility_matrix_prompt():\n",
    "    return  f\"\"\"\n",
    "    ` Business Problem Statement:\n",
    "\n",
    "In today’s fast-paced software development landscape, there is a need for an efficient and comprehensive coding assistant that can cater to the needs of both software developers and learners. The current operational environment lacks a centralized platform that provides real-time assistance, knowledge repository, and pre-planned artifacts generation for various software topics. Without such a solution, developers and learners face challenges in finding reliable and prompt answers to coding issues, accessing relevant knowledge resources, and generating specific artifacts.\n",
    "\n",
    "Addressing this problem by implementing the Ducky coding assistant can bring significant benefits to our organization. The AI-powered chat feature, capable of answering coding-related queries, will empower developers and learners with quick and accurate solutions, enhancing their productivity and reducing time spent on issue resolution. Moreover, the blueprint feature will act as a knowledge repository, streamlining the process of generating essential artifacts like schemas, types, and APIs. This will not only save time but also ensure consistency and accuracy in software development.\n",
    "\n",
    "By providing a centralized platform for learning and development, the Ducky coding assistant will improve the efficiency of software teams, foster knowledge sharing, and accelerate the onboarding of new developers. These improvements will directly contribute to enhanced organizational performance, streamlined operations, and increased competitiveness in the dynamic software market.\n",
    "`\n",
    "    -consider above Business Problem Statement and create ecosystem map\n",
    "    \n",
    "    Generate a Responsibility Matrix\n",
    "\n",
    "Description: Develop a responsibility matrix to outline stakeholder roles and responsibilities for various tasks and phases related to a project.\n",
    "\n",
    "\n",
    "Create a matrix table with the listed tasks/phases as rows and stakeholders as columns. Assign the appropriate role for each stakeholder in each task/phase based on their involvement and responsibility.\n",
    "-stakeholder roles and responsibilities within a project. It emphasizes considering each group's level of involvement, decision-making authority, expertise, and need for information. It suggests using a RACI matrix to categorize stakeholders as Responsible, Accountable, Consulted, or Informed. This approach ensures clear communication, collaboration, and accountability throughout the project lifecycle\n",
    "    \"\"\""
   ],
   "metadata": {
    "collapsed": false,
    "ExecuteTime": {
     "end_time": "2024-02-13T02:28:04.176706300Z",
     "start_time": "2024-02-13T02:28:04.150997400Z"
    }
   },
   "id": "da7cb9dabf7a64ac",
   "execution_count": 104
  },
  {
   "cell_type": "code",
   "outputs": [
    {
     "name": "stdout",
     "output_type": "stream",
     "text": [
      "Responsibility Matrix:\n",
      "\n",
      "| Tasks/Phases | Project Manager | Developers | Learners | AI Engineer | UX/UI Designer | Software Testing | Stakeholders |\n",
      "|----------------------------|-----------------|------------|----------|-------------|----------------|------------------|--------------|\n",
      "| Requirements Gathering | A | R | C | C | I | I | |\n",
      "| Solution Design | A | R | C | C | A | I | |\n",
      "| AI Model Development | C | R | | R | I | I | |\n",
      "| Chat Feature Development | C | R | | R | I | I | |\n",
      "| Blueprint Feature Development | C | R | | R | I | I | |\n",
      "| Testing and Quality Assurance | A | C | | C | C | R | |\n",
      "| Deployment and Integration | A | C | | C | | I | |\n",
      "| Maintenance and Support | A | C | C | C | | I | |\n",
      "| Training and Onboarding | A | C | C | C | | I | |\n",
      "| Continuous Improvement | A | C | C | C | I | | |\n",
      "\n",
      "Note: \n",
      "\n",
      "- A = Accountable (Ultimate decision-making authority and overall responsibility)\n",
      "- R = Responsible (Responsible for executing the task)\n",
      "- C = Consulted (Provides input and expertise)\n",
      "- I = Informed (Kept informed about the progress and outcomes)\n"
     ]
    }
   ],
   "source": [
    "text, history = converse(responsibility_matrix_prompt(), [])\n",
    "print(markdownify(text))"
   ],
   "metadata": {
    "collapsed": false,
    "ExecuteTime": {
     "end_time": "2024-02-13T02:28:09.450190500Z",
     "start_time": "2024-02-13T02:28:04.326103300Z"
    }
   },
   "id": "dc2e64857a9bd6fd",
   "execution_count": 105
  },
  {
   "cell_type": "code",
   "execution_count": null,
   "outputs": [],
   "source": [],
   "metadata": {
    "collapsed": false
   },
   "id": "471128d26998fc2d"
  }
 ],
 "metadata": {
  "kernelspec": {
   "display_name": "Python 3",
   "language": "python",
   "name": "python3"
  },
  "language_info": {
   "codemirror_mode": {
    "name": "ipython",
    "version": 2
   },
   "file_extension": ".py",
   "mimetype": "text/x-python",
   "name": "python",
   "nbconvert_exporter": "python",
   "pygments_lexer": "ipython2",
   "version": "2.7.6"
  }
 },
 "nbformat": 4,
 "nbformat_minor": 5
}
