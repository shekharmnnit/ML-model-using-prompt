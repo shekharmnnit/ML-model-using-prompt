{
 "cells": [
  {
   "cell_type": "code",
   "outputs": [
    {
     "name": "stdout",
     "output_type": "stream",
     "text": [
      "Requirement already satisfied: openai==1.8.0 in c:\\users\\shekh\\onedrive\\desktop\\vt courses\\ai tools\\cs5914\\module2\\venv\\lib\\site-packages (from -r requirements.txt (line 1)) (1.8.0)\n",
      "Requirement already satisfied: pandas==2.2.0 in c:\\users\\shekh\\onedrive\\desktop\\vt courses\\ai tools\\cs5914\\module2\\venv\\lib\\site-packages (from -r requirements.txt (line 2)) (2.2.0)\n",
      "Requirement already satisfied: scikit-learn==1.4.0 in c:\\users\\shekh\\onedrive\\desktop\\vt courses\\ai tools\\cs5914\\module2\\venv\\lib\\site-packages (from -r requirements.txt (line 3)) (1.4.0)\n",
      "Requirement already satisfied: matplotlib==3.8.2 in c:\\users\\shekh\\onedrive\\desktop\\vt courses\\ai tools\\cs5914\\module2\\venv\\lib\\site-packages (from -r requirements.txt (line 4)) (3.8.2)\n",
      "Requirement already satisfied: pyarrow==14.0.2 in c:\\users\\shekh\\onedrive\\desktop\\vt courses\\ai tools\\cs5914\\module2\\venv\\lib\\site-packages (from -r requirements.txt (line 5)) (14.0.2)\n",
      "Requirement already satisfied: anyio<5,>=3.5.0 in c:\\users\\shekh\\onedrive\\desktop\\vt courses\\ai tools\\cs5914\\module2\\venv\\lib\\site-packages (from openai==1.8.0->-r requirements.txt (line 1)) (4.2.0)\n",
      "Requirement already satisfied: distro<2,>=1.7.0 in c:\\users\\shekh\\onedrive\\desktop\\vt courses\\ai tools\\cs5914\\module2\\venv\\lib\\site-packages (from openai==1.8.0->-r requirements.txt (line 1)) (1.9.0)\n",
      "Requirement already satisfied: httpx<1,>=0.23.0 in c:\\users\\shekh\\onedrive\\desktop\\vt courses\\ai tools\\cs5914\\module2\\venv\\lib\\site-packages (from openai==1.8.0->-r requirements.txt (line 1)) (0.26.0)\n",
      "Requirement already satisfied: pydantic<3,>=1.9.0 in c:\\users\\shekh\\onedrive\\desktop\\vt courses\\ai tools\\cs5914\\module2\\venv\\lib\\site-packages (from openai==1.8.0->-r requirements.txt (line 1)) (2.5.3)\n",
      "Requirement already satisfied: sniffio in c:\\users\\shekh\\onedrive\\desktop\\vt courses\\ai tools\\cs5914\\module2\\venv\\lib\\site-packages (from openai==1.8.0->-r requirements.txt (line 1)) (1.3.0)\n",
      "Requirement already satisfied: tqdm>4 in c:\\users\\shekh\\onedrive\\desktop\\vt courses\\ai tools\\cs5914\\module2\\venv\\lib\\site-packages (from openai==1.8.0->-r requirements.txt (line 1)) (4.66.1)\n",
      "Requirement already satisfied: typing-extensions<5,>=4.7 in c:\\users\\shekh\\onedrive\\desktop\\vt courses\\ai tools\\cs5914\\module2\\venv\\lib\\site-packages (from openai==1.8.0->-r requirements.txt (line 1)) (4.9.0)\n",
      "Requirement already satisfied: numpy<2,>=1.22.4 in c:\\users\\shekh\\onedrive\\desktop\\vt courses\\ai tools\\cs5914\\module2\\venv\\lib\\site-packages (from pandas==2.2.0->-r requirements.txt (line 2)) (1.26.3)\n",
      "Requirement already satisfied: python-dateutil>=2.8.2 in c:\\users\\shekh\\onedrive\\desktop\\vt courses\\ai tools\\cs5914\\module2\\venv\\lib\\site-packages (from pandas==2.2.0->-r requirements.txt (line 2)) (2.8.2)\n",
      "Requirement already satisfied: pytz>=2020.1 in c:\\users\\shekh\\onedrive\\desktop\\vt courses\\ai tools\\cs5914\\module2\\venv\\lib\\site-packages (from pandas==2.2.0->-r requirements.txt (line 2)) (2023.3.post1)\n",
      "Requirement already satisfied: tzdata>=2022.7 in c:\\users\\shekh\\onedrive\\desktop\\vt courses\\ai tools\\cs5914\\module2\\venv\\lib\\site-packages (from pandas==2.2.0->-r requirements.txt (line 2)) (2023.4)\n",
      "Requirement already satisfied: scipy>=1.6.0 in c:\\users\\shekh\\onedrive\\desktop\\vt courses\\ai tools\\cs5914\\module2\\venv\\lib\\site-packages (from scikit-learn==1.4.0->-r requirements.txt (line 3)) (1.12.0)\n",
      "Requirement already satisfied: joblib>=1.2.0 in c:\\users\\shekh\\onedrive\\desktop\\vt courses\\ai tools\\cs5914\\module2\\venv\\lib\\site-packages (from scikit-learn==1.4.0->-r requirements.txt (line 3)) (1.3.2)\n",
      "Requirement already satisfied: threadpoolctl>=2.0.0 in c:\\users\\shekh\\onedrive\\desktop\\vt courses\\ai tools\\cs5914\\module2\\venv\\lib\\site-packages (from scikit-learn==1.4.0->-r requirements.txt (line 3)) (3.2.0)\n",
      "Requirement already satisfied: contourpy>=1.0.1 in c:\\users\\shekh\\onedrive\\desktop\\vt courses\\ai tools\\cs5914\\module2\\venv\\lib\\site-packages (from matplotlib==3.8.2->-r requirements.txt (line 4)) (1.2.0)\n",
      "Requirement already satisfied: cycler>=0.10 in c:\\users\\shekh\\onedrive\\desktop\\vt courses\\ai tools\\cs5914\\module2\\venv\\lib\\site-packages (from matplotlib==3.8.2->-r requirements.txt (line 4)) (0.12.1)\n",
      "Requirement already satisfied: fonttools>=4.22.0 in c:\\users\\shekh\\onedrive\\desktop\\vt courses\\ai tools\\cs5914\\module2\\venv\\lib\\site-packages (from matplotlib==3.8.2->-r requirements.txt (line 4)) (4.47.2)\n",
      "Requirement already satisfied: kiwisolver>=1.3.1 in c:\\users\\shekh\\onedrive\\desktop\\vt courses\\ai tools\\cs5914\\module2\\venv\\lib\\site-packages (from matplotlib==3.8.2->-r requirements.txt (line 4)) (1.4.5)\n",
      "Requirement already satisfied: packaging>=20.0 in c:\\users\\shekh\\onedrive\\desktop\\vt courses\\ai tools\\cs5914\\module2\\venv\\lib\\site-packages (from matplotlib==3.8.2->-r requirements.txt (line 4)) (23.2)\n",
      "Requirement already satisfied: pillow>=8 in c:\\users\\shekh\\onedrive\\desktop\\vt courses\\ai tools\\cs5914\\module2\\venv\\lib\\site-packages (from matplotlib==3.8.2->-r requirements.txt (line 4)) (10.2.0)\n",
      "Requirement already satisfied: pyparsing>=2.3.1 in c:\\users\\shekh\\onedrive\\desktop\\vt courses\\ai tools\\cs5914\\module2\\venv\\lib\\site-packages (from matplotlib==3.8.2->-r requirements.txt (line 4)) (3.1.1)\n",
      "Requirement already satisfied: importlib-resources>=3.2.0 in c:\\users\\shekh\\onedrive\\desktop\\vt courses\\ai tools\\cs5914\\module2\\venv\\lib\\site-packages (from matplotlib==3.8.2->-r requirements.txt (line 4)) (6.1.1)\n",
      "Requirement already satisfied: idna>=2.8 in c:\\users\\shekh\\onedrive\\desktop\\vt courses\\ai tools\\cs5914\\module2\\venv\\lib\\site-packages (from anyio<5,>=3.5.0->openai==1.8.0->-r requirements.txt (line 1)) (3.6)\n",
      "Requirement already satisfied: exceptiongroup>=1.0.2 in c:\\users\\shekh\\onedrive\\desktop\\vt courses\\ai tools\\cs5914\\module2\\venv\\lib\\site-packages (from anyio<5,>=3.5.0->openai==1.8.0->-r requirements.txt (line 1)) (1.2.0)\n",
      "Requirement already satisfied: certifi in c:\\users\\shekh\\onedrive\\desktop\\vt courses\\ai tools\\cs5914\\module2\\venv\\lib\\site-packages (from httpx<1,>=0.23.0->openai==1.8.0->-r requirements.txt (line 1)) (2023.11.17)\n",
      "Requirement already satisfied: httpcore==1.* in c:\\users\\shekh\\onedrive\\desktop\\vt courses\\ai tools\\cs5914\\module2\\venv\\lib\\site-packages (from httpx<1,>=0.23.0->openai==1.8.0->-r requirements.txt (line 1)) (1.0.2)\n",
      "Requirement already satisfied: h11<0.15,>=0.13 in c:\\users\\shekh\\onedrive\\desktop\\vt courses\\ai tools\\cs5914\\module2\\venv\\lib\\site-packages (from httpcore==1.*->httpx<1,>=0.23.0->openai==1.8.0->-r requirements.txt (line 1)) (0.14.0)\n",
      "Requirement already satisfied: zipp>=3.1.0 in c:\\users\\shekh\\onedrive\\desktop\\vt courses\\ai tools\\cs5914\\module2\\venv\\lib\\site-packages (from importlib-resources>=3.2.0->matplotlib==3.8.2->-r requirements.txt (line 4)) (3.17.0)\n",
      "Requirement already satisfied: annotated-types>=0.4.0 in c:\\users\\shekh\\onedrive\\desktop\\vt courses\\ai tools\\cs5914\\module2\\venv\\lib\\site-packages (from pydantic<3,>=1.9.0->openai==1.8.0->-r requirements.txt (line 1)) (0.6.0)\n",
      "Requirement already satisfied: pydantic-core==2.14.6 in c:\\users\\shekh\\onedrive\\desktop\\vt courses\\ai tools\\cs5914\\module2\\venv\\lib\\site-packages (from pydantic<3,>=1.9.0->openai==1.8.0->-r requirements.txt (line 1)) (2.14.6)\n",
      "Requirement already satisfied: six>=1.5 in c:\\users\\shekh\\onedrive\\desktop\\vt courses\\ai tools\\cs5914\\module2\\venv\\lib\\site-packages (from python-dateutil>=2.8.2->pandas==2.2.0->-r requirements.txt (line 2)) (1.16.0)\n",
      "Requirement already satisfied: colorama in c:\\users\\shekh\\onedrive\\desktop\\vt courses\\ai tools\\cs5914\\module2\\venv\\lib\\site-packages (from tqdm>4->openai==1.8.0->-r requirements.txt (line 1)) (0.4.6)\n"
     ]
    },
    {
     "name": "stderr",
     "output_type": "stream",
     "text": [
      "\n",
      "[notice] A new release of pip is available: 23.2.1 -> 23.3.2\n",
      "[notice] To update, run: python.exe -m pip install --upgrade pip\n"
     ]
    }
   ],
   "source": [
    "!pip3 install -r requirements.txt"
   ],
   "metadata": {
    "collapsed": false,
    "ExecuteTime": {
     "end_time": "2024-01-28T18:25:08.158531800Z",
     "start_time": "2024-01-28T18:25:06.763514100Z"
    }
   },
   "id": "34bb7c65ab7a5a10",
   "execution_count": 2
  },
  {
   "cell_type": "markdown",
   "source": [
    "# Project 2 AI Chat Notebook\n",
    "\n",
    "In this notebook, we want to see the code you use to solve\n",
    "the machine learning tasks below.  Additionally, we will want to see an image of a graph representing \n",
    "the training times and accuracy of supervised models.\n",
    "\n",
    "When run, this notebook should first run the unsupervised learning algorithm, and then the supervised algorithm.\n"
   ],
   "metadata": {
    "collapsed": false
   },
   "id": "fb127947ae786d3e"
  },
  {
   "cell_type": "markdown",
   "source": [
    "# Unsupervised Learning"
   ],
   "metadata": {
    "collapsed": false
   },
   "id": "33f340e736f29545"
  },
  {
   "cell_type": "markdown",
   "source": [
    "In this section, we will use the data set as a whole and classify the code using the unsupervised K-means clustering algorithm.\n",
    "Use the imports below.\n",
    " "
   ],
   "metadata": {
    "collapsed": false
   },
   "id": "8b35358120e31f"
  },
  {
   "cell_type": "code",
   "outputs": [],
   "source": [
    "import glob\n",
    "\n",
    "import pandas as pd\n",
    "from sklearn.cluster import KMeans\n",
    "from sklearn.feature_extraction.text import TfidfVectorizer\n"
   ],
   "metadata": {
    "collapsed": false,
    "ExecuteTime": {
     "end_time": "2024-01-28T18:25:10.484794500Z",
     "start_time": "2024-01-28T18:25:08.158531800Z"
    }
   },
   "id": "c81794323049a9e",
   "execution_count": 3
  },
  {
   "cell_type": "markdown",
   "source": [
    "- Load all data files matching 'data/datasets/train-00000-5k-2*.parquet'.\n",
    "- Merge those dataframes into a single dataframe \"df\"."
   ],
   "metadata": {
    "collapsed": false
   },
   "id": "336f881e632e7ba8"
  },
  {
   "cell_type": "code",
   "outputs": [],
   "source": [
    "# enter code fragment here\n",
    "import pandas as pd\n",
    "import glob\n",
    "\n",
    "# Get a list of all file paths matching the pattern\n",
    "file_paths = glob.glob('data/datasets/train-00000-5k-*.parquet')\n",
    "\n",
    "# Load each file into a dataframe and store them in a list\n",
    "dfs = [pd.read_parquet(file) for file in file_paths]\n",
    "\n",
    "# Merge all dataframes into a single dataframe\n",
    "df = pd.concat(dfs, ignore_index=True)"
   ],
   "metadata": {
    "collapsed": false,
    "ExecuteTime": {
     "end_time": "2024-01-28T18:25:11.241725400Z",
     "start_time": "2024-01-28T18:25:10.480029800Z"
    }
   },
   "id": "d68b1b86b1cf06a3",
   "execution_count": 4
  },
  {
   "cell_type": "markdown",
   "source": [
    "- Define the code snippets (from data frames's \"code\" attribute)\n",
    "- Define labels (from dataframe's \"language\" attribute)"
   ],
   "metadata": {
    "collapsed": false
   },
   "id": "a5fa0bcc5eb0a26d"
  },
  {
   "cell_type": "code",
   "outputs": [],
   "source": [
    "# Extract code snippets from the \"code\" attribute\n",
    "code_snippets = df['code'].tolist()\n",
    "\n",
    "# Extract labels from the \"language\" attribute\n",
    "labels = df['language'].tolist()# enter code fragment here"
   ],
   "metadata": {
    "collapsed": false,
    "ExecuteTime": {
     "end_time": "2024-01-28T18:25:11.256930800Z",
     "start_time": "2024-01-28T18:25:11.245333300Z"
    }
   },
   "id": "a6c1f07cef23685b",
   "execution_count": 5
  },
  {
   "cell_type": "markdown",
   "source": [
    "- Define the code snippets (from data frames's \"code\" attribute)\n",
    "- Define labels (from dataframe's \"language\" attribute)"
   ],
   "metadata": {
    "collapsed": false
   },
   "id": "74fa6ec7dfda3293"
  },
  {
   "cell_type": "code",
   "outputs": [],
   "source": [
    "# enter code fragment here"
   ],
   "metadata": {
    "collapsed": false,
    "ExecuteTime": {
     "end_time": "2024-01-28T18:25:11.277612700Z",
     "start_time": "2024-01-28T18:25:11.258924400Z"
    }
   },
   "id": "d07602090f1f7ab",
   "execution_count": 6
  },
  {
   "cell_type": "markdown",
   "source": [
    "- Convert code snippets to TF-IDF features"
   ],
   "metadata": {
    "collapsed": false
   },
   "id": "cd2b19d1f7c5b8b8"
  },
  {
   "cell_type": "markdown",
   "source": [
    "- Perform K-Means clustering"
   ],
   "metadata": {
    "collapsed": false
   },
   "id": "ae363b1f1b2db948"
  },
  {
   "cell_type": "markdown",
   "source": [
    "- Print the cluster assignments with each cluster being truncated to 50 characters long.\n"
   ],
   "metadata": {
    "collapsed": false
   },
   "id": "411024110293e895"
  },
  {
   "cell_type": "code",
   "outputs": [],
   "source": [
    "# enter code fragment here\n",
    "from sklearn.feature_extraction.text import TfidfVectorizer\n",
    "\n",
    "# Initialize the TfidfVectorizer\n",
    "vectorizer = TfidfVectorizer()\n",
    "\n",
    "# Fit and transform the code snippets to TF-IDF features\n",
    "tfidf_features = vectorizer.fit_transform(code_snippets)\n",
    "\n",
    "from sklearn.cluster import KMeans\n",
    "\n",
    "# Initialize the KMeans clustering algorithm\n",
    "kmeans = KMeans(n_clusters=5)\n",
    "\n",
    "# Fit the TF-IDF features to the KMeans model\n",
    "kmeans.fit(tfidf_features)\n",
    "\n",
    "# Get the cluster labels for each code snippet\n",
    "cluster_labels = kmeans.labels_"
   ],
   "metadata": {
    "collapsed": false,
    "ExecuteTime": {
     "end_time": "2024-01-28T18:25:26.190567100Z",
     "start_time": "2024-01-28T18:25:11.275617700Z"
    }
   },
   "id": "94c2297cf30fa98b",
   "execution_count": 7
  },
  {
   "cell_type": "code",
   "execution_count": 23,
   "outputs": [
    {
     "name": "stdout",
     "output_type": "stream",
     "text": [
      "Cluster 0:\n",
      "Example 1: /**  * Copyright (c) Microsoft Corporation. All rights reserved.  * Licensed under the MIT License. See License.txt in the project root for  * license information.  *  * Code generated by Microsoft (R) AutoRest Code Generator.  */  package com.microsoft.azure.management.datafactory.v2018_06_01;  import com.fasterxml.jackson.annotation.JsonProperty; import com.fasterxml.jackson.annotation.JsonTypeInfo; import com.fasterxml.jackson.annotation.JsonTypeName;  /**  * The location of Google Cloud Stor...\n",
      "\n",
      "Example 2: ﻿namespace MyColors {     partial class SimpleToolTip     {         /// <summary>         /// Required designer variable.         /// </summary>         private System.ComponentModel.IContainer components = null;          /// <summary>         /// Clean up any resources being used.         /// </summary>         /// <param name=\"disposing\">true if managed resources should be disposed; otherwise, false.</param>         protected override void Dispose(bool disposing)         {             if (disp...\n",
      "\n",
      "Example 3: ﻿using System; using System.Collections.Generic; using System.Linq; using System.Text; using System.Threading.Tasks; using System.Windows; using System.Windows.Controls; using System.Windows.Data; using System.Windows.Documents; using System.Windows.Input; using System.Windows.Media; using System.Windows.Media.Imaging; using System.Windows.Navigation; using System.Windows.Shapes;  namespace Gama.Atenciones.Wpf.Views {     /// <summary>     /// Interaction logic for SearchBoxView.xaml     /// </s...\n",
      "\n",
      "Example 4: ﻿using System; using System.Collections; using System.Linq; using Xunit;  namespace Popsql.Tests { \tpublic class SqlValuesTests \t{ \t\t[Fact] \t\tpublic void Add_WithNullValues_ThrowsArgumentNull() \t\t{ \t\t\tvar values = new SqlValues(); \t\t\tAssert.Throws<ArgumentNullException>(() => values.Add(null)); \t\t}  \t\t[Fact] \t\tpublic void Count_ReturnsNumberOfItems() \t\t{ \t\t\tvar values = new SqlValues(); \t\t\tAssert.Equal(0, values.Count); \t\t\t \t\t\tvalues.Add(Enumerable.Range(0, 5).Cast<SqlValue>()); \t\t\tAssert.Equal(...\n",
      "\n",
      "     pr...rideConnectionActivity extends ActionBarActivity {if the device\n",
      "\n",
      "Example 6: package com.github.kwoin.kgate.core.sequencer;  import com.github.kwoin.kgate.core.message.Message; import com.github.kwoin.kgate.core.session.Session; import org.slf4j.Logger; import org.slf4j.LoggerFactory;  import javax.annotation.Nullable; import java.io.ByteArrayOutputStream; import java.io.IOException; import java.net.SocketException; import java.util.Arrays; import java.util.Iterator; import java.util.NoSuchElementException; import java.util.concurrent.CountDownLatch;   /**  * @author P. ...\n",
      "\n",
      "\n",
      "Cluster 1:\n",
      "Example 1: 'use strict';  var clear          = require('es5-ext/array/#/clear')   , eIndexOf       = require('es5-ext/array/#/e-index-of')   , setPrototypeOf = require('es5-ext/object/set-prototype-of')   , callable       = require('es5-ext/object/valid-callable')   , d              = require('d')   , ee             = require('event-emitter')   , Symbol         = require('es6-symbol')   , iterator       = require('es6-iterator/valid-iterable')   , forOf          = require('es6-iterator/for-of')   , Iterato...\n",
      "\n",
      "Example 2: 'use strict';  const TYPE = Symbol.for('type');  class Data {    constructor(options) {     // File details     this.filepath = options.filepath;      // Type     this[TYPE] = 'data';      // Data     Object.assign(this, options.data);   } }  module.exports = Data; \n",
      "\n",
      "Example 3:  function collectWithWildcard(test) { \ttest.expect(4);  \tvar api_server = new Test_ApiServer(function handler(request, callback) { \t\tvar url = request.url;  \t\tswitch (url) { \t\t\tcase '/accounts?username=chariz*': \t\t\t\tlet account = new Model_Account({ \t\t\t\t\tusername: 'charizard' \t\t\t\t});  \t\t\t\treturn void callback(null, [ \t\t\t\t\taccount.redact() \t\t\t\t]);  \t\t\tdefault: \t\t\t\tlet error = new Error('Invalid url: ' + url);  \t\t\t\treturn void callback(error); \t\t} \t});  \tvar parameters = { \t\tusername: 'chariz*' \t}...\n",
      "\n",
      "Example 4: <?php  interface Container {     /**      * Checks if a $x exists.      *      * @param unknown $x      *      * @return boolean      */     function contains($x); }\n",
      "\n",
      "Example 5: angular.module('appTesting').service(\"LoginLocalStorage\", function () {     \"use strict\";      var STORE_NAME = \"login\";      var setUser = function setUser(user) {         localStorage.setItem(STORE_NAME, JSON.stringify(user));     }      var getUser = function getUser() {         var storedTasks = localStorage.getItem(STORE_NAME);         if (storedTasks) {             return JSON.parse(storedTasks);         }         return {};     }      return {         setUser: setUser,         getUser: ge...\n",
      "\n",
      "   if (...ated = false;;pdate = function (o, sw, sc, fc, m, p) {\n",
      "\n",
      "\n",
      "Cluster 2:\n",
      "Example 1: package sodium  // #cgo pkg-config: libsodium // #include <stdlib.h> // #include <sodium.h> import \"C\"  func RuntimeHasNeon() bool { \treturn C.sodium_runtime_has_neon() != 0 }  func RuntimeHasSse2() bool { \treturn C.sodium_runtime_has_sse2() != 0 }  func RuntimeHasSse3() bool { \treturn C.sodium_runtime_has_sse3() != 0 } \n",
      "\n",
      "Example 2: /*  * Read and write JSON.  *  * Copyright (c) 2014  Marko Kreen  *  * Permission to use, copy, modify, and/or distribute this software for any  * purpose with or without fee is hereby granted, provided that the above  * copyright notice and this permission notice appear in all copies.  *  * THE SOFTWARE IS PROVIDED \"AS IS\" AND THE AUTHOR DISCLAIMS ALL WARRANTIES  * WITH REGARD TO THIS SOFTWARE INCLUDING ALL IMPLIED WARRANTIES OF  * MERCHANTABILITY AND FITNESS. IN NO EVENT SHALL THE AUTHOR BE LI...\n",
      "\n",
      "Example 3: /* Copyright information is at end of file */  #include \"xmlrpc_config.h\"  #include <stddef.h> #include <stdlib.h> #include <stdarg.h> #include <string.h>  #include \"stdargx.h\"  #include \"xmlrpc-c/base.h\" #include \"xmlrpc-c/base_int.h\" #include \"xmlrpc-c/string_int.h\"   static void getString(xmlrpc_env *const envP,           const char **const formatP,           va_listx *const argsP,           xmlrpc_value **const valPP) {      const char *str;     size_t len;      str = (const char *) va_arg(a...\n",
      "\n",
      "Example 4: /* ISC license. */  #include <bearssl.h> #include <s6-networking/sbearssl.h>  int sbearssl_skey_to (sbearssl_skey const *l, br_skey *k, char *s) {   switch (l->type)   {     case BR_KEYTYPE_RSA :       sbearssl_rsa_skey_to(&l->data.rsa, &k->data.rsa, s) ;       break ;     case BR_KEYTYPE_EC :       sbearssl_ec_skey_to(&l->data.ec, &k->data.ec, s) ;       break ;     default :       return 0 ;   }   k->type = l->type ;   return 1 ; } \n",
      "\n",
      "Example 5: /*  * The MIT License  * Copyright (c) 2012 Matias Meno <m@tias.me>  */  @-webkit-keyframes passing-through {     0% {         opacity: 0;         -webkit-transform: translateY(40px);         -moz-transform: translateY(40px);         -ms-transform: translateY(40px);         -o-transform: translateY(40px);         transform: translateY(40px);     }     30%,     70% {         opacity: 1;         -webkit-transform: translateY(0px);         -moz-transform: translateY(0px);         -ms-transform: tra...\n",
      "\n",
      "Example 6: /* eslint-disable no-console */ const buildData = require('./build_data'); const buildSrc = require('./build_src'); const buildCSS = require('./build_css');  let _currBuild = null;  // if called directly, do the thing. buildAll();   function buildAll() {   if (_currBuild) return _currBuild;    return _currBuild =     Promise.resolve()     .then(() => buildCSS())     .then(() => buildData())     .then(() => buildSrc())     .then(() => _currBuild = null)     .catch((err) => {       console.error(e...\n",
      "\n",
      "\n",
      "Cluster 3:\n",
      "Example 1: <!DOCTYPE html> <html>     <head>         <title>Hello World!</title>          <script src=\"lib/js/angular.min.js\"></script>         <script src=\"lib/js/angular-route.min.js\"></script>         <script src=\"lib/js/angular-animate.min.js\"></script>         <script src=\"lib/js/angular-aria.min.js\"></script>         <script src=\"lib/js/angular-touch.min.js\"></script>         <script src=\"lib/js/angular-material.min.js\"></script>         <script src=\"lib/js/angular-local-storage.min.js\"></script>    ...\n",
      "\n",
      "Example 2: <!DOCTYPE HTML> <html lang=\"de\"> <head> <!-- Generated by javadoc (17) --> <title>Source code</title> <meta name=\"viewport\" content=\"width=device-width, initial-scale=1\"> <meta name=\"description\" content=\"source: package: com.restfb.types.send, class: ListViewElement\"> <meta name=\"generator\" content=\"javadoc/SourceToHTMLConverter\"> <link rel=\"stylesheet\" type=\"text/css\" href=\"../../../../../stylesheet.css\" title=\"Style\"> </head> <body class=\"source-page\"> <main role=\"main\"> <div class=\"source-co...\n",
      "\n",
      "Example 3: <a href=\"/article/{{post.pk}}\">     <div class=\"search-result post {{post.primary_section}}\">         <span class=\"primary\">{{ post.title }}</span>         <div class=\"metadata\">             <span class=\"date\">{{post.published | date:\"F j, Y\"}}</span>             {% for author in post.creators %}                 {% if author.name %}                     <span class=\"author\">{{ author.name }}</span>                 {% endif %}             {% endfor %}         </div>         <span class=\"excerpt\">{...\n",
      "\n",
      "Example 4: <!DOCTYPE html> <html lang=\"en\">   <head>     <meta charset=\"utf-8\">     <meta http-equiv=\"x-ua-compatible\" content=\"ie=edge\">     <meta name=\"viewport\" content=\"width=device-width, initial-scale=1\">     <meta name=\"description\" content=\"blog,python,django,developer\">     <meta name=\"author\" content=\"Derek Stegelman\">          <title>Derek.Stegelman.Com  | Tags</title>      <link rel=\"stylesheet\" href='http://derek.stegelman.com/assets/bootstrap/css/bootstrap.min.css'>     <link rel=\"stylesheet\"...\n",
      "\n",
      "Example 5: <html>  <head>  </head>  <body>   <h2>    But Honour Them As They Honour Men   </h2>   Thirdly,   <span class=\"oldenglish\">    for   </span>   <span class=\"oldenglish\">    the   </span>   worship   <span class=\"oldenglish\">    which   </span>   naturally men exhibite   <span class=\"oldenglish\">    to   </span>   Powers invisible,   <span class=\"oldenglish\">    it   </span>   <span class=\"oldenglish\">    can   </span>   <span class=\"oldenglish\">    be   </span>   <span class=\"oldenglish\">    no  ...\n",
      "\n",
      "Example 6: <?xml version=\"1.0\" encoding=\"iso-8859-1\"?> <!DOCTYPE html       PUBLIC \"-//W3C//DTD XHTML 1.0 Transitional//EN\"      \"http://www.w3.org/TR/xhtml1/DTD/xhtml1-transitional.dtd\">  <html xmlns=\"http://www.w3.org/1999/xhtml\" xml:lang=\"en\" lang=\"en\"> <head>   <title>File: calculations.rb</title>   <meta http-equiv=\"Content-Type\" content=\"text/html; charset=iso-8859-1\" />   <meta http-equiv=\"Content-Script-Type\" content=\"text/javascript\" />   <link rel=\"stylesheet\" href=\"../../../../../../../../../../...\n",
      "\n",
      "\n",
      "Cluster 4:\n",
      "Example 1: /*  * WARNING: do not edit!  * Generated by util/mkbuildinf.pl  *  * Copyright 2014-2017 The OpenSSL Project Authors. All Rights Reserved.  *  * Licensed under the OpenSSL license (the \"License\").  You may not use  * this file except in compliance with the License.  You can obtain a copy  * in the file LICENSE in the source distribution or at  * https://www.openssl.org/source/license.html  */  #define PLATFORM \"platform: linux-armv4\" #define DATE \"built on: Fri Sep 13 15:59:17 2019 UTC\"  /*  * G...\n",
      "\n",
      "Example 2: /**  * The MIT License Copyright (c) 2015 Teal Cube Games  *  * Permission is hereby granted, free of charge, to any person obtaining a copy of this software and  * associated documentation files (the \"Software\"), to deal in the Software without restriction,  * including without limitation the rights to use, copy, modify, merge, publish, distribute,  * sublicense, and/or sell copies of the Software, and to permit persons to whom the Software is  * furnished to do so, subject to the following con...\n",
      "\n",
      "Example 3: /* Copyright (c) 2016, 2021 Dennis Wölfing  *  * Permission to use, copy, modify, and/or distribute this software for any  * purpose with or without fee is hereby granted, provided that the above  * copyright notice and this permission notice appear in all copies.  *  * THE SOFTWARE IS PROVIDED \"AS IS\" AND THE AUTHOR DISCLAIMS ALL WARRANTIES  * WITH REGARD TO THIS SOFTWARE INCLUDING ALL IMPLIED WARRANTIES OF  * MERCHANTABILITY AND FITNESS. IN NO EVENT SHALL THE AUTHOR BE LIABLE FOR  * ANY SPECIA...\n",
      "\n",
      "Example 4: /* Copyright (c) 2019, 2022 Dennis Wölfing  *  * Permission to use, copy, modify, and/or distribute this software for any  * purpose with or without fee is hereby granted, provided that the above  * copyright notice and this permission notice appear in all copies.  *  * THE SOFTWARE IS PROVIDED \"AS IS\" AND THE AUTHOR DISCLAIMS ALL WARRANTIES  * WITH REGARD TO THIS SOFTWARE INCLUDING ALL IMPLIED WARRANTIES OF  * MERCHANTABILITY AND FITNESS. IN NO EVENT SHALL THE AUTHOR BE LIABLE FOR  * ANY SPECIA...\n",
      "\n",
      "Example 5: --- layout: post title: More Office Interop in PowerShell ---  As part of our team's workflow we create various data files and then generate tracking issues that we then import into our issue tracking system.  We have a semi-automated process to do this which works fairly well but for some older issues we had imported I noticed that a vital piece of information was missing.  When we ingest the issues into the system there is an identifier that we save into the issue tracking system so we can fin...\n",
      "\n",
      "Example 6: /* Copyright (c) 2018 Dennis Wölfing  *  * Permission to use, copy, modify, and/or distribute this software for any  * purpose with or without fee is hereby granted, provided that the above  * copyright notice and this permission notice appear in all copies.  *  * THE SOFTWARE IS PROVIDED \"AS IS\" AND THE AUTHOR DISCLAIMS ALL WARRANTIES  * WITH REGARD TO THIS SOFTWARE INCLUDING ALL IMPLIED WARRANTIES OF  * MERCHANTABILITY AND FITNESS. IN NO EVENT SHALL THE AUTHOR BE LIABLE FOR  * ANY SPECIAL, DIR...\n"
     ]
    }
   ],
   "source": [
    "# Create a dictionary to store snippets for each cluster\n",
    "cluster_snippets = {i: [] for i in range(5)}\n",
    "DocLen=500\n",
    "# Iterate over each snippet and assign it to the corresponding cluster\n",
    "for i, snippet in enumerate(code_snippets):\n",
    "    cluster = cluster_labels[i]\n",
    "    truncated_snippet = snippet.replace('\\n', ' ')[:DocLen] + '...' if len(snippet) > DocLen else snippet.replace('\\n', ' ')\n",
    "    cluster_snippets[cluster].append(truncated_snippet)\n",
    "\n",
    "# Print 6 examples from each cluster\n",
    "for cluster, snippets in cluster_snippets.items():\n",
    "    print(f\"Cluster {cluster}:\")\n",
    "    for i in range(min(6, len(snippets))):\n",
    "        # print(snippets[i])\n",
    "        print(f\"Example {i+1}: {snippets[i]}\")\n",
    "        print(\"\")\n",
    "    print()"
   ],
   "metadata": {
    "collapsed": false,
    "ExecuteTime": {
     "end_time": "2024-01-28T18:41:34.540509300Z",
     "start_time": "2024-01-28T18:41:34.389701800Z"
    }
   },
   "id": "105b98675b84a60b"
  },
  {
   "cell_type": "code",
   "execution_count": 28,
   "outputs": [],
   "source": [
    "# # Generate code to make a plot (use mathplotlib) showing the data points and clusters. Use a distinct color for each cluster\n",
    "# import matplotlib.pyplot as plt\n",
    "# \n",
    "# # Create a list to store the selected data points for plotting\n",
    "# selected_points = []\n",
    "# \n",
    "# # Iterate over each cluster and select 20 observations\n",
    "# for cluster, snippets in cluster_snippets.items():\n",
    "#     selected_points.extend(snippets[:20])\n",
    "# \n",
    "# # Create a scatter plot of the selected data points\n",
    "# plt.figure(figsize=(10, 6))\n",
    "# for i, snippet in enumerate(selected_points):\n",
    "#     cluster = cluster_labels[i]\n",
    "#     color = f'C{cluster}'\n",
    "#     plt.scatter(i, 0, color=color, marker='|')\n",
    "# \n",
    "# # Set plot title and labels\n",
    "# plt.title('Data Points and Clusters')\n",
    "# plt.xlabel('Data Point')\n",
    "# plt.ylabel('Cluster')\n",
    "# \n",
    "# # Set x-axis limits and remove y-axis ticks\n",
    "# plt.xlim(0, len(selected_points))\n",
    "# plt.yticks([])\n",
    "# \n",
    "# # Show the plot\n",
    "# plt.show()"
   ],
   "metadata": {
    "collapsed": false,
    "ExecuteTime": {
     "end_time": "2024-01-29T19:29:29.727835800Z",
     "start_time": "2024-01-29T19:29:29.703856300Z"
    }
   },
   "id": "64e9e7c43cc7f333"
  },
  {
   "cell_type": "markdown",
   "source": [
    "## TODO: Unsupervised Learning Cluster Explanation\n",
    "\n",
    "- This should be an English paragraph statement declaring how you assessed the quality/meaning of the clusters.\n",
    "This should be simply explaining how you think each cluster is formed/defined."
   ],
   "metadata": {
    "collapsed": false
   },
   "id": "ccfeb752fa1a9db9"
  },
  {
   "cell_type": "markdown",
   "source": [
    "## Cluster Explanation\n",
    "\n",
    "Cluster 0: This cluster consists of Java code snippets. Examples 1-5 include code like 'import com.fasterxml.jackson.annotation.JsonTypeInfo', 'private System.ComponentModel.IContainer', 'using System.Collections.Generic', 'using System.Collections', and 'import java.io.IOException'. These codes are maintained in examples 1-5, illustrating that Cluster 0 represents Java code snippets.\n",
    "\n",
    "Cluster 1: This cluster represents JavaScript code snippets. For example, snippet 4 belongs to JavaScript code, and one example belongs to PHP code. As 80% of the examples belong to JavaScript code, we consider this cluster as the JavaScript code cluster.\n",
    "\n",
    "Cluster 2: This cluster represents C code. Examples 1, 3, and 4 contain C code, Example 5 is CSS code, and Example 6 is JavaScript code. The majority of the examples belong to C code. Hence, Cluster 2 is the C code cluster.\n",
    "\n",
    "Cluster 3: This cluster represents HTML code. Among the six examples, all are written in HTML language.\n",
    "\n",
    "Cluster 4: This cluster represents Copyright and Permission to use, copy, modify information in all the examples."
   ],
   "metadata": {
    "collapsed": false
   },
   "id": "219068c09833fa91"
  },
  {
   "cell_type": "markdown",
   "source": [
    "# Supervised Learning\n",
    "\n",
    "Write a python script that loads successively larger data files and merges them into larger training sets.\n",
    "For each training set, let's track training time, prediction time, and accuracy.\n",
    "Use the imports below."
   ],
   "metadata": {
    "collapsed": false
   },
   "id": "1efbafd5bb8492a7"
  },
  {
   "cell_type": "code",
   "outputs": [],
   "source": [
    "import glob\n",
    "import time\n",
    "\n",
    "import pandas as pd\n",
    "from sklearn.feature_extraction.text import TfidfVectorizer\n",
    "from sklearn.metrics import classification_report, accuracy_score\n",
    "from sklearn.model_selection import train_test_split\n",
    "from sklearn.svm import SVC\n"
   ],
   "metadata": {
    "collapsed": false,
    "ExecuteTime": {
     "start_time": "2024-01-28T18:25:28.003491300Z"
    }
   },
   "id": "e891d8a82fdf7686",
   "execution_count": null
  },
  {
   "cell_type": "markdown",
   "source": [
    "- Track measurements for each round: the round number/index, how long in seconds the train, predict steps take, and an accuracy report\n",
    "- Use a list of dictionaries for measurement storage, with \"round\", \"train\", \"predict\", \"accuracy\" as keys"
   ],
   "metadata": {
    "collapsed": false
   },
   "id": "ba6c646cb7c8f491"
  },
  {
   "cell_type": "markdown",
   "source": [
    "- Write a function named learn that takes a dataframe and an index as parameters.\n",
    "- The index indicates the round number of learning. The function should:\n",
    "- 1. Create a dictionary to store the measurements for this round\n",
    "- 2. Print a message indicating the round number\n",
    "- 3. Store the round number in the dictionary under 'round'\n",
    "- 4. Split the dataframe into code snippets and labels\n",
    "- 5. Split the code snippets and labels into training and test sets\n",
    "- 6. Create a TF-IDF vectorizer\n",
    "- 7. Use the 'fit_transform' method on the training data to learn the vocabulary and idf, and return term-document matrix.\n",
    "- 8. Use the 'transform' method on the test data to transform documents to document-term matrix.\n",
    "- 9. Create a Support Vector Machine classifier\n",
    "- 10. Train the classifier using the training data\n",
    "- 11. Save the model to a file and load it back from a file (to make sure it works)\n",
    "- 12. Use the classifier to predict the labels for the test data\n",
    "- 13. Print the classification report which should be a dictionary\n",
    "- 14. Store the training time in the dictionary under 'train'\n",
    "- 15. Store the prediction time in the dictionary under 'predict'\n",
    "- 16. Store the classification report in the dictionary under 'report'\n",
    "- 17. Add 'accuracy' to the dictionary and set it to the accuracy score from the classification report\n",
    "- 18. Append the dictionary to the measurements list for this round"
   ],
   "metadata": {
    "collapsed": false
   },
   "id": "dd2d32c6cf84ea7f"
  },
  {
   "cell_type": "markdown",
   "source": [
    "- Load all data files matching 'data/datasets/train-00000-5k*.parquet'.\n",
    "- For each file loaded, merge the latest data file with the merged data to date,\n",
    "- and call the learn function with the dataframe and the index of the file in the list of files."
   ],
   "metadata": {
    "collapsed": false
   },
   "id": "253ea4a44fe883e3"
  },
  {
   "cell_type": "markdown",
   "source": [
    "- If I have measurements in Python like a list of dictionaries such as:\n",
    "- `[{'round': 0, 'train': 32.76, 'predict': 2.13, 'accuracy': 0.78},....]`\n",
    "- let us plot lines on the same graph for tfidf, train, predict and accuracy using python?  Use matplotlib.\n",
    "- Add a legend.  Add axis labels.  Add a title.\n",
    "- Lets save the plot to a file \"supervised-plotter.png\" before showing the plot."
   ],
   "metadata": {
    "collapsed": false
   },
   "id": "c4a0ad45841dd61a"
  },
  {
   "cell_type": "code",
   "execution_count": 35,
   "outputs": [
    {
     "name": "stderr",
     "output_type": "stream",
     "text": [
      "C:\\Users\\shekh\\OneDrive\\Desktop\\VT courses\\AI tools\\CS5914\\module2\\venv\\lib\\site-packages\\sklearn\\metrics\\_classification.py:1497: UndefinedMetricWarning: Precision is ill-defined and being set to 0.0 in labels with no predicted samples. Use `zero_division` parameter to control this behavior.\n",
      "  _warn_prf(average, modifier, f\"{metric.capitalize()} is\", len(result))\n",
      "C:\\Users\\shekh\\OneDrive\\Desktop\\VT courses\\AI tools\\CS5914\\module2\\venv\\lib\\site-packages\\sklearn\\metrics\\_classification.py:1497: UndefinedMetricWarning: Precision is ill-defined and being set to 0.0 in labels with no predicted samples. Use `zero_division` parameter to control this behavior.\n",
      "  _warn_prf(average, modifier, f\"{metric.capitalize()} is\", len(result))\n",
      "C:\\Users\\shekh\\OneDrive\\Desktop\\VT courses\\AI tools\\CS5914\\module2\\venv\\lib\\site-packages\\sklearn\\metrics\\_classification.py:1497: UndefinedMetricWarning: Precision is ill-defined and being set to 0.0 in labels with no predicted samples. Use `zero_division` parameter to control this behavior.\n",
      "  _warn_prf(average, modifier, f\"{metric.capitalize()} is\", len(result))\n"
     ]
    },
    {
     "name": "stdout",
     "output_type": "stream",
     "text": [
      "Learning from file 0:\n",
      "Training set:\n",
      "(4000, 137161)\n",
      "4227      Markdown\n",
      "4676           C++\n",
      "800            PHP\n",
      "3671           C++\n",
      "4193    Dockerfile\n",
      "Name: language, dtype: object\n",
      "Test set:\n",
      "(1000, 137161)\n",
      "1501            C#\n",
      "2586    JavaScript\n",
      "2653          Ruby\n",
      "1055          Java\n",
      "705           HTML\n",
      "Name: language, dtype: object\n",
      "Predicted labels:\n",
      "['C#' 'Markdown' 'Ruby' 'Java' 'HTML']\n"
     ]
    },
    {
     "name": "stderr",
     "output_type": "stream",
     "text": [
      "C:\\Users\\shekh\\OneDrive\\Desktop\\VT courses\\AI tools\\CS5914\\module2\\venv\\lib\\site-packages\\sklearn\\metrics\\_classification.py:1497: UndefinedMetricWarning: Precision is ill-defined and being set to 0.0 in labels with no predicted samples. Use `zero_division` parameter to control this behavior.\n",
      "  _warn_prf(average, modifier, f\"{metric.capitalize()} is\", len(result))\n",
      "C:\\Users\\shekh\\OneDrive\\Desktop\\VT courses\\AI tools\\CS5914\\module2\\venv\\lib\\site-packages\\sklearn\\metrics\\_classification.py:1497: UndefinedMetricWarning: Precision is ill-defined and being set to 0.0 in labels with no predicted samples. Use `zero_division` parameter to control this behavior.\n",
      "  _warn_prf(average, modifier, f\"{metric.capitalize()} is\", len(result))\n",
      "C:\\Users\\shekh\\OneDrive\\Desktop\\VT courses\\AI tools\\CS5914\\module2\\venv\\lib\\site-packages\\sklearn\\metrics\\_classification.py:1497: UndefinedMetricWarning: Precision is ill-defined and being set to 0.0 in labels with no predicted samples. Use `zero_division` parameter to control this behavior.\n",
      "  _warn_prf(average, modifier, f\"{metric.capitalize()} is\", len(result))\n"
     ]
    },
    {
     "name": "stdout",
     "output_type": "stream",
     "text": [
      "Learning from file 1:\n",
      "Training set:\n",
      "(8000, 376392)\n",
      "4254             C\n",
      "1561      Markdown\n",
      "1670    JavaScript\n",
      "1087         Shell\n",
      "1669             C\n",
      "Name: language, dtype: object\n",
      "Test set:\n",
      "(2000, 376392)\n",
      "1252          Java\n",
      "4684      Markdown\n",
      "1731           PHP\n",
      "4742          HTML\n",
      "4521    JavaScript\n",
      "Name: language, dtype: object\n",
      "Predicted labels:\n",
      "['Java' 'Markdown' 'PHP' 'HTML' 'JavaScript']\n"
     ]
    },
    {
     "name": "stderr",
     "output_type": "stream",
     "text": [
      "C:\\Users\\shekh\\OneDrive\\Desktop\\VT courses\\AI tools\\CS5914\\module2\\venv\\lib\\site-packages\\sklearn\\metrics\\_classification.py:1497: UndefinedMetricWarning: Precision is ill-defined and being set to 0.0 in labels with no predicted samples. Use `zero_division` parameter to control this behavior.\n",
      "  _warn_prf(average, modifier, f\"{metric.capitalize()} is\", len(result))\n",
      "C:\\Users\\shekh\\OneDrive\\Desktop\\VT courses\\AI tools\\CS5914\\module2\\venv\\lib\\site-packages\\sklearn\\metrics\\_classification.py:1497: UndefinedMetricWarning: Precision is ill-defined and being set to 0.0 in labels with no predicted samples. Use `zero_division` parameter to control this behavior.\n",
      "  _warn_prf(average, modifier, f\"{metric.capitalize()} is\", len(result))\n",
      "C:\\Users\\shekh\\OneDrive\\Desktop\\VT courses\\AI tools\\CS5914\\module2\\venv\\lib\\site-packages\\sklearn\\metrics\\_classification.py:1497: UndefinedMetricWarning: Precision is ill-defined and being set to 0.0 in labels with no predicted samples. Use `zero_division` parameter to control this behavior.\n",
      "  _warn_prf(average, modifier, f\"{metric.capitalize()} is\", len(result))\n"
     ]
    },
    {
     "name": "stdout",
     "output_type": "stream",
     "text": [
      "Learning from file 2:\n",
      "Training set:\n",
      "(12000, 511514)\n",
      "4839       GO\n",
      "4680        C\n",
      "2093      C++\n",
      "1293    Scala\n",
      "820      Java\n",
      "Name: language, dtype: object\n",
      "Test set:\n",
      "(3000, 511514)\n",
      "1499    Markdown\n",
      "1475        Java\n",
      "3167    Markdown\n",
      "862         HTML\n",
      "970         Java\n",
      "Name: language, dtype: object\n",
      "Predicted labels:\n",
      "['Markdown' 'Java' 'Markdown' 'HTML' 'Java']\n"
     ]
    },
    {
     "name": "stderr",
     "output_type": "stream",
     "text": [
      "C:\\Users\\shekh\\OneDrive\\Desktop\\VT courses\\AI tools\\CS5914\\module2\\venv\\lib\\site-packages\\sklearn\\metrics\\_classification.py:1497: UndefinedMetricWarning: Precision is ill-defined and being set to 0.0 in labels with no predicted samples. Use `zero_division` parameter to control this behavior.\n",
      "  _warn_prf(average, modifier, f\"{metric.capitalize()} is\", len(result))\n",
      "C:\\Users\\shekh\\OneDrive\\Desktop\\VT courses\\AI tools\\CS5914\\module2\\venv\\lib\\site-packages\\sklearn\\metrics\\_classification.py:1497: UndefinedMetricWarning: Precision is ill-defined and being set to 0.0 in labels with no predicted samples. Use `zero_division` parameter to control this behavior.\n",
      "  _warn_prf(average, modifier, f\"{metric.capitalize()} is\", len(result))\n",
      "C:\\Users\\shekh\\OneDrive\\Desktop\\VT courses\\AI tools\\CS5914\\module2\\venv\\lib\\site-packages\\sklearn\\metrics\\_classification.py:1497: UndefinedMetricWarning: Precision is ill-defined and being set to 0.0 in labels with no predicted samples. Use `zero_division` parameter to control this behavior.\n",
      "  _warn_prf(average, modifier, f\"{metric.capitalize()} is\", len(result))\n"
     ]
    },
    {
     "name": "stdout",
     "output_type": "stream",
     "text": [
      "Learning from file 3:\n",
      "Training set:\n",
      "(16000, 663317)\n",
      "894           HTML\n",
      "3728    JavaScript\n",
      "3958    JavaScript\n",
      "2671          Java\n",
      "999           HTML\n",
      "Name: language, dtype: object\n",
      "Test set:\n",
      "(4000, 663317)\n",
      "650       C\n",
      "2041    PHP\n",
      "3668    PHP\n",
      "1114      C\n",
      "3902    PHP\n",
      "Name: language, dtype: object\n",
      "Predicted labels:\n",
      "['C' 'PHP' 'PHP' 'C' 'PHP']\n",
      "Learning from file 4:\n",
      "Training set:\n",
      "(20000, 869432)\n",
      "3311             C\n",
      "3623           PHP\n",
      "1020           PHP\n",
      "2645          Java\n",
      "1533    TypeScript\n",
      "Name: language, dtype: object\n",
      "Test set:\n",
      "(5000, 869432)\n",
      "1868         CSS\n",
      "4016         CSS\n",
      "4668          C#\n",
      "3640        Java\n",
      "4018    Markdown\n",
      "Name: language, dtype: object\n",
      "Predicted labels:\n",
      "['CSS' 'CSS' 'C#' 'Java' 'Markdown']\n",
      "[{'train': 20.572086095809937, 'predict': 1.6904053688049316, 'report': {'Assembly': {'precision': 0.0, 'recall': 0.0, 'f1-score': 0.0, 'support': 1.0}, 'Batchfile': {'precision': 0.0, 'recall': 0.0, 'f1-score': 0.0, 'support': 3.0}, 'C': {'precision': 0.8428571428571429, 'recall': 0.8428571428571429, 'f1-score': 0.8428571428571429, 'support': 70.0}, 'C#': {'precision': 0.9736842105263158, 'recall': 0.9367088607594937, 'f1-score': 0.9548387096774194, 'support': 79.0}, 'C++': {'precision': 0.9411764705882353, 'recall': 0.43243243243243246, 'f1-score': 0.5925925925925926, 'support': 37.0}, 'CMake': {'precision': 0.0, 'recall': 0.0, 'f1-score': 0.0, 'support': 3.0}, 'CSS': {'precision': 0.9166666666666666, 'recall': 0.9166666666666666, 'f1-score': 0.9166666666666666, 'support': 12.0}, 'Dockerfile': {'precision': 0.0, 'recall': 0.0, 'f1-score': 0.0, 'support': 2.0}, 'FORTRAN': {'precision': 0.0, 'recall': 0.0, 'f1-score': 0.0, 'support': 1.0}, 'GO': {'precision': 1.0, 'recall': 0.5, 'f1-score': 0.6666666666666666, 'support': 20.0}, 'HTML': {'precision': 0.9245283018867925, 'recall': 0.9074074074074074, 'f1-score': 0.9158878504672897, 'support': 108.0}, 'Haskell': {'precision': 0.0, 'recall': 0.0, 'f1-score': 0.0, 'support': 2.0}, 'Java': {'precision': 0.9204545454545454, 'recall': 0.9642857142857143, 'f1-score': 0.9418604651162791, 'support': 84.0}, 'JavaScript': {'precision': 0.723404255319149, 'recall': 0.918918918918919, 'f1-score': 0.8095238095238095, 'support': 185.0}, 'Julia': {'precision': 0.0, 'recall': 0.0, 'f1-score': 0.0, 'support': 1.0}, 'Lua': {'precision': 0.0, 'recall': 0.0, 'f1-score': 0.0, 'support': 5.0}, 'Makefile': {'precision': 0.0, 'recall': 0.0, 'f1-score': 0.0, 'support': 5.0}, 'Markdown': {'precision': 0.6121212121212121, 'recall': 0.8938053097345132, 'f1-score': 0.7266187050359713, 'support': 113.0}, 'PHP': {'precision': 0.9090909090909091, 'recall': 0.8602150537634409, 'f1-score': 0.8839779005524862, 'support': 93.0}, 'Perl': {'precision': 0.0, 'recall': 0.0, 'f1-score': 0.0, 'support': 3.0}, 'Python': {'precision': 0.8604651162790697, 'recall': 0.8043478260869565, 'f1-score': 0.8314606741573034, 'support': 46.0}, 'Ruby': {'precision': 0.8985507246376812, 'recall': 0.9117647058823529, 'f1-score': 0.9051094890510949, 'support': 68.0}, 'Rust': {'precision': 0.0, 'recall': 0.0, 'f1-score': 0.0, 'support': 1.0}, 'SQL': {'precision': 1.0, 'recall': 0.25, 'f1-score': 0.4, 'support': 4.0}, 'Scala': {'precision': 0.0, 'recall': 0.0, 'f1-score': 0.0, 'support': 2.0}, 'Shell': {'precision': 1.0, 'recall': 0.4166666666666667, 'f1-score': 0.5882352941176471, 'support': 12.0}, 'TeX': {'precision': 0.0, 'recall': 0.0, 'f1-score': 0.0, 'support': 5.0}, 'TypeScript': {'precision': 0.8666666666666667, 'recall': 0.38235294117647056, 'f1-score': 0.5306122448979592, 'support': 34.0}, 'Visual Basic': {'precision': 0.0, 'recall': 0.0, 'f1-score': 0.0, 'support': 1.0}, 'accuracy': 0.818, 'macro avg': {'precision': 0.4617126283480823, 'recall': 0.37718722919441994, 'f1-score': 0.39678993832345955, 'support': 1000.0}, 'weighted avg': {'precision': 0.8126062705053594, 'recall': 0.818, 'f1-score': 0.7992977235490136, 'support': 1000.0}}, 'accuracy': 0.818}, {'train': 87.62093949317932, 'predict': 8.460706233978271, 'report': {'Assembly': {'precision': 0.0, 'recall': 0.0, 'f1-score': 0.0, 'support': 2.0}, 'Batchfile': {'precision': 0.0, 'recall': 0.0, 'f1-score': 0.0, 'support': 5.0}, 'C': {'precision': 0.7063197026022305, 'recall': 0.9134615384615384, 'f1-score': 0.7966457023060797, 'support': 208.0}, 'C#': {'precision': 0.9765625, 'recall': 0.946969696969697, 'f1-score': 0.9615384615384616, 'support': 132.0}, 'C++': {'precision': 0.8313253012048193, 'recall': 0.518796992481203, 'f1-score': 0.6388888888888888, 'support': 133.0}, 'CMake': {'precision': 0.0, 'recall': 0.0, 'f1-score': 0.0, 'support': 1.0}, 'CSS': {'precision': 0.896551724137931, 'recall': 0.7647058823529411, 'f1-score': 0.8253968253968254, 'support': 34.0}, 'Dockerfile': {'precision': 0.0, 'recall': 0.0, 'f1-score': 0.0, 'support': 7.0}, 'GO': {'precision': 1.0, 'recall': 0.47058823529411764, 'f1-score': 0.64, 'support': 34.0}, 'HTML': {'precision': 0.8942731277533039, 'recall': 0.9144144144144144, 'f1-score': 0.9042316258351893, 'support': 222.0}, 'Haskell': {'precision': 0.0, 'recall': 0.0, 'f1-score': 0.0, 'support': 2.0}, 'Java': {'precision': 0.9217391304347826, 'recall': 0.9814814814814815, 'f1-score': 0.9506726457399103, 'support': 216.0}, 'JavaScript': {'precision': 0.7402135231316725, 'recall': 0.9122807017543859, 'f1-score': 0.8172888015717092, 'support': 228.0}, 'Julia': {'precision': 0.0, 'recall': 0.0, 'f1-score': 0.0, 'support': 3.0}, 'Lua': {'precision': 1.0, 'recall': 0.1, 'f1-score': 0.18181818181818182, 'support': 10.0}, 'Makefile': {'precision': 1.0, 'recall': 0.23076923076923078, 'f1-score': 0.375, 'support': 13.0}, 'Markdown': {'precision': 0.5873015873015873, 'recall': 0.8862275449101796, 'f1-score': 0.7064439140811456, 'support': 167.0}, 'PHP': {'precision': 0.9416666666666667, 'recall': 0.8862745098039215, 'f1-score': 0.9131313131313131, 'support': 255.0}, 'Perl': {'precision': 1.0, 'recall': 0.25, 'f1-score': 0.4, 'support': 8.0}, 'PowerShell': {'precision': 0.0, 'recall': 0.0, 'f1-score': 0.0, 'support': 3.0}, 'Python': {'precision': 0.9252336448598131, 'recall': 0.9252336448598131, 'f1-score': 0.9252336448598131, 'support': 107.0}, 'Ruby': {'precision': 0.9555555555555556, 'recall': 0.9347826086956522, 'f1-score': 0.945054945054945, 'support': 92.0}, 'Rust': {'precision': 0.5, 'recall': 0.16666666666666666, 'f1-score': 0.25, 'support': 6.0}, 'SQL': {'precision': 1.0, 'recall': 0.4166666666666667, 'f1-score': 0.5882352941176471, 'support': 12.0}, 'Scala': {'precision': 0.0, 'recall': 0.0, 'f1-score': 0.0, 'support': 6.0}, 'Shell': {'precision': 0.8125, 'recall': 0.41935483870967744, 'f1-score': 0.5531914893617021, 'support': 31.0}, 'TeX': {'precision': 0.0, 'recall': 0.0, 'f1-score': 0.0, 'support': 7.0}, 'TypeScript': {'precision': 0.9473684210526315, 'recall': 0.33962264150943394, 'f1-score': 0.5, 'support': 53.0}, 'Visual Basic': {'precision': 0.0, 'recall': 0.0, 'f1-score': 0.0, 'support': 3.0}, 'accuracy': 0.8255, 'macro avg': {'precision': 0.5736762374034825, 'recall': 0.4130447343379663, 'f1-score': 0.4438886804724763, 'support': 2000.0}, 'weighted avg': {'precision': 0.8318881220688139, 'recall': 0.8255, 'f1-score': 0.8093591357124678, 'support': 2000.0}}, 'accuracy': 0.8255}, {'train': 189.48909378051758, 'predict': 18.955503940582275, 'report': {'Assembly': {'precision': 0.0, 'recall': 0.0, 'f1-score': 0.0, 'support': 1.0}, 'Batchfile': {'precision': 0.0, 'recall': 0.0, 'f1-score': 0.0, 'support': 9.0}, 'C': {'precision': 0.7909090909090909, 'recall': 0.8907849829351536, 'f1-score': 0.8378812199036918, 'support': 293.0}, 'C#': {'precision': 0.965, 'recall': 0.9278846153846154, 'f1-score': 0.946078431372549, 'support': 208.0}, 'C++': {'precision': 0.8661417322834646, 'recall': 0.6432748538011696, 'f1-score': 0.738255033557047, 'support': 171.0}, 'CMake': {'precision': 1.0, 'recall': 0.2, 'f1-score': 0.3333333333333333, 'support': 5.0}, 'CSS': {'precision': 0.9361702127659575, 'recall': 0.8301886792452831, 'f1-score': 0.88, 'support': 53.0}, 'Dockerfile': {'precision': 0.0, 'recall': 0.0, 'f1-score': 0.0, 'support': 3.0}, 'GO': {'precision': 1.0, 'recall': 0.74, 'f1-score': 0.8505747126436781, 'support': 50.0}, 'HTML': {'precision': 0.9138461538461539, 'recall': 0.9252336448598131, 'f1-score': 0.9195046439628483, 'support': 321.0}, 'Haskell': {'precision': 0.0, 'recall': 0.0, 'f1-score': 0.0, 'support': 8.0}, 'Java': {'precision': 0.9098786828422877, 'recall': 0.9943181818181818, 'f1-score': 0.9502262443438914, 'support': 528.0}, 'JavaScript': {'precision': 0.7791411042944786, 'recall': 0.9136690647482014, 'f1-score': 0.8410596026490066, 'support': 278.0}, 'Julia': {'precision': 0.0, 'recall': 0.0, 'f1-score': 0.0, 'support': 2.0}, 'Lua': {'precision': 1.0, 'recall': 0.7142857142857143, 'f1-score': 0.8333333333333334, 'support': 7.0}, 'Makefile': {'precision': 1.0, 'recall': 0.21052631578947367, 'f1-score': 0.34782608695652173, 'support': 19.0}, 'Markdown': {'precision': 0.6510989010989011, 'recall': 0.9080459770114943, 'f1-score': 0.7584, 'support': 261.0}, 'PHP': {'precision': 0.9411764705882353, 'recall': 0.8951048951048951, 'f1-score': 0.9175627240143369, 'support': 286.0}, 'Perl': {'precision': 1.0, 'recall': 0.47368421052631576, 'f1-score': 0.6428571428571429, 'support': 19.0}, 'PowerShell': {'precision': 0.0, 'recall': 0.0, 'f1-score': 0.0, 'support': 5.0}, 'Python': {'precision': 0.930635838150289, 'recall': 0.8994413407821229, 'f1-score': 0.9147727272727273, 'support': 179.0}, 'Ruby': {'precision': 0.9752066115702479, 'recall': 0.921875, 'f1-score': 0.9477911646586346, 'support': 128.0}, 'Rust': {'precision': 0.6666666666666666, 'recall': 0.4, 'f1-score': 0.5, 'support': 5.0}, 'SQL': {'precision': 1.0, 'recall': 0.5, 'f1-score': 0.6666666666666666, 'support': 16.0}, 'Scala': {'precision': 0.625, 'recall': 0.2631578947368421, 'f1-score': 0.37037037037037035, 'support': 19.0}, 'Shell': {'precision': 0.7714285714285715, 'recall': 0.6136363636363636, 'f1-score': 0.6835443037974683, 'support': 44.0}, 'TeX': {'precision': 0.0, 'recall': 0.0, 'f1-score': 0.0, 'support': 5.0}, 'TypeScript': {'precision': 0.9642857142857143, 'recall': 0.36486486486486486, 'f1-score': 0.5294117647058824, 'support': 74.0}, 'Visual Basic': {'precision': 0.0, 'recall': 0.0, 'f1-score': 0.0, 'support': 3.0}, 'accuracy': 0.8603333333333333, 'macro avg': {'precision': 0.6443650258872434, 'recall': 0.49068884825967257, 'f1-score': 0.5313603278068665, 'support': 3000.0}, 'weighted avg': {'precision': 0.8625257621569717, 'recall': 0.8603333333333333, 'f1-score': 0.8498649687138314, 'support': 3000.0}}, 'accuracy': 0.8603333333333333}, {'train': 327.3161642551422, 'predict': 36.894771337509155, 'report': {'Assembly': {'precision': 0.0, 'recall': 0.0, 'f1-score': 0.0, 'support': 5.0}, 'Batchfile': {'precision': 0.0, 'recall': 0.0, 'f1-score': 0.0, 'support': 6.0}, 'C': {'precision': 0.7476280834914611, 'recall': 0.91415313225058, 'f1-score': 0.8225469728601252, 'support': 431.0}, 'C#': {'precision': 0.9874476987447699, 'recall': 0.9402390438247012, 'f1-score': 0.963265306122449, 'support': 251.0}, 'C++': {'precision': 0.855, 'recall': 0.6404494382022472, 'f1-score': 0.7323340471092077, 'support': 267.0}, 'CMake': {'precision': 1.0, 'recall': 0.25, 'f1-score': 0.4, 'support': 8.0}, 'CSS': {'precision': 0.9137931034482759, 'recall': 0.828125, 'f1-score': 0.8688524590163934, 'support': 64.0}, 'Dockerfile': {'precision': 0.0, 'recall': 0.0, 'f1-score': 0.0, 'support': 11.0}, 'FORTRAN': {'precision': 0.0, 'recall': 0.0, 'f1-score': 0.0, 'support': 3.0}, 'GO': {'precision': 0.9333333333333333, 'recall': 0.6774193548387096, 'f1-score': 0.7850467289719626, 'support': 62.0}, 'HTML': {'precision': 0.9419191919191919, 'recall': 0.9255583126550868, 'f1-score': 0.9336670838548186, 'support': 403.0}, 'Haskell': {'precision': 0.0, 'recall': 0.0, 'f1-score': 0.0, 'support': 9.0}, 'Java': {'precision': 0.9486111111111111, 'recall': 0.9956268221574344, 'f1-score': 0.9715504978662873, 'support': 686.0}, 'JavaScript': {'precision': 0.8078703703703703, 'recall': 0.8994845360824743, 'f1-score': 0.8512195121951219, 'support': 388.0}, 'Lua': {'precision': 0.875, 'recall': 0.5, 'f1-score': 0.6363636363636364, 'support': 14.0}, 'Makefile': {'precision': 0.875, 'recall': 0.2692307692307692, 'f1-score': 0.4117647058823529, 'support': 26.0}, 'Markdown': {'precision': 0.6411483253588517, 'recall': 0.864516129032258, 'f1-score': 0.7362637362637363, 'support': 310.0}, 'PHP': {'precision': 0.9587378640776699, 'recall': 0.9038901601830663, 'f1-score': 0.9305064782096584, 'support': 437.0}, 'Perl': {'precision': 0.9230769230769231, 'recall': 0.5714285714285714, 'f1-score': 0.7058823529411765, 'support': 21.0}, 'PowerShell': {'precision': 0.0, 'recall': 0.0, 'f1-score': 0.0, 'support': 7.0}, 'Python': {'precision': 0.9545454545454546, 'recall': 0.9352226720647774, 'f1-score': 0.9447852760736196, 'support': 247.0}, 'Ruby': {'precision': 0.9225806451612903, 'recall': 0.9225806451612903, 'f1-score': 0.9225806451612903, 'support': 155.0}, 'Rust': {'precision': 1.0, 'recall': 0.46153846153846156, 'f1-score': 0.631578947368421, 'support': 13.0}, 'SQL': {'precision': 0.8823529411764706, 'recall': 0.6818181818181818, 'f1-score': 0.7692307692307693, 'support': 22.0}, 'Scala': {'precision': 0.7619047619047619, 'recall': 0.8, 'f1-score': 0.7804878048780488, 'support': 20.0}, 'Shell': {'precision': 0.8205128205128205, 'recall': 0.7272727272727273, 'f1-score': 0.7710843373493976, 'support': 44.0}, 'TeX': {'precision': 0.0, 'recall': 0.0, 'f1-score': 0.0, 'support': 8.0}, 'TypeScript': {'precision': 1.0, 'recall': 0.52, 'f1-score': 0.6842105263157895, 'support': 75.0}, 'Visual Basic': {'precision': 1.0, 'recall': 0.42857142857142855, 'f1-score': 0.6, 'support': 7.0}, 'accuracy': 0.86925, 'macro avg': {'precision': 0.681050435456302, 'recall': 0.5399008753900953, 'f1-score': 0.5811455801391125, 'support': 4000.0}, 'weighted avg': {'precision': 0.870785014023386, 'recall': 0.86925, 'f1-score': 0.8620487610223087, 'support': 4000.0}}, 'accuracy': 0.86925}, {'train': 480.023029088974, 'predict': 61.04737854003906, 'report': {'Assembly': {'precision': 0.0, 'recall': 0.0, 'f1-score': 0.0, 'support': 3.0}, 'Batchfile': {'precision': 1.0, 'recall': 0.1, 'f1-score': 0.18181818181818182, 'support': 10.0}, 'C': {'precision': 0.7952973720608575, 'recall': 0.93042071197411, 'f1-score': 0.8575689783743475, 'support': 618.0}, 'C#': {'precision': 0.9837133550488599, 'recall': 0.9320987654320988, 'f1-score': 0.9572107765451664, 'support': 324.0}, 'C++': {'precision': 0.8565891472868217, 'recall': 0.6424418604651163, 'f1-score': 0.7342192691029901, 'support': 344.0}, 'CMake': {'precision': 1.0, 'recall': 0.15384615384615385, 'f1-score': 0.26666666666666666, 'support': 13.0}, 'CSS': {'precision': 0.8875, 'recall': 0.7888888888888889, 'f1-score': 0.8352941176470589, 'support': 90.0}, 'Dockerfile': {'precision': 0.0, 'recall': 0.0, 'f1-score': 0.0, 'support': 7.0}, 'FORTRAN': {'precision': 0.0, 'recall': 0.0, 'f1-score': 0.0, 'support': 2.0}, 'GO': {'precision': 0.9305555555555556, 'recall': 0.8072289156626506, 'f1-score': 0.864516129032258, 'support': 83.0}, 'HTML': {'precision': 0.9458333333333333, 'recall': 0.9134808853118712, 'f1-score': 0.9293756397134084, 'support': 497.0}, 'Haskell': {'precision': 0.0, 'recall': 0.0, 'f1-score': 0.0, 'support': 17.0}, 'Java': {'precision': 0.9521640091116174, 'recall': 0.9928741092636579, 'f1-score': 0.9720930232558139, 'support': 842.0}, 'JavaScript': {'precision': 0.8166351606805293, 'recall': 0.9037656903765691, 'f1-score': 0.8579940417080437, 'support': 478.0}, 'Julia': {'precision': 0.0, 'recall': 0.0, 'f1-score': 0.0, 'support': 2.0}, 'Lua': {'precision': 0.9285714285714286, 'recall': 0.7647058823529411, 'f1-score': 0.8387096774193549, 'support': 17.0}, 'Makefile': {'precision': 1.0, 'recall': 0.43333333333333335, 'f1-score': 0.6046511627906976, 'support': 30.0}, 'Markdown': {'precision': 0.6613861386138614, 'recall': 0.893048128342246, 'f1-score': 0.7599544937428896, 'support': 374.0}, 'PHP': {'precision': 0.95, 'recall': 0.926829268292683, 'f1-score': 0.9382716049382716, 'support': 492.0}, 'Perl': {'precision': 0.9411764705882353, 'recall': 0.6956521739130435, 'f1-score': 0.8, 'support': 23.0}, 'PowerShell': {'precision': 0.0, 'recall': 0.0, 'f1-score': 0.0, 'support': 6.0}, 'Python': {'precision': 0.9492753623188406, 'recall': 0.9390681003584229, 'f1-score': 0.9441441441441442, 'support': 279.0}, 'Ruby': {'precision': 0.9333333333333333, 'recall': 0.9702970297029703, 'f1-score': 0.9514563106796117, 'support': 202.0}, 'Rust': {'precision': 1.0, 'recall': 0.6470588235294118, 'f1-score': 0.7857142857142857, 'support': 17.0}, 'SQL': {'precision': 1.0, 'recall': 0.6, 'f1-score': 0.75, 'support': 30.0}, 'Scala': {'precision': 0.8666666666666667, 'recall': 0.7647058823529411, 'f1-score': 0.8125, 'support': 34.0}, 'Shell': {'precision': 0.813953488372093, 'recall': 0.5555555555555556, 'f1-score': 0.660377358490566, 'support': 63.0}, 'TeX': {'precision': 0.0, 'recall': 0.0, 'f1-score': 0.0, 'support': 7.0}, 'TypeScript': {'precision': 0.9166666666666666, 'recall': 0.5057471264367817, 'f1-score': 0.6518518518518519, 'support': 87.0}, 'Visual Basic': {'precision': 1.0, 'recall': 0.5555555555555556, 'f1-score': 0.7142857142857143, 'support': 9.0}, 'accuracy': 0.878, 'macro avg': {'precision': 0.70431058294029, 'recall': 0.5472200946982334, 'f1-score': 0.5889557809307109, 'support': 5000.0}, 'weighted avg': {'precision': 0.8798431269392771, 'recall': 0.878, 'f1-score': 0.8711821753380247, 'support': 5000.0}}, 'accuracy': 0.878}]\n"
     ]
    },
    {
     "name": "stderr",
     "output_type": "stream",
     "text": [
      "C:\\Users\\shekh\\OneDrive\\Desktop\\VT courses\\AI tools\\CS5914\\module2\\venv\\lib\\site-packages\\sklearn\\metrics\\_classification.py:1497: UndefinedMetricWarning: Precision is ill-defined and being set to 0.0 in labels with no predicted samples. Use `zero_division` parameter to control this behavior.\n",
      "  _warn_prf(average, modifier, f\"{metric.capitalize()} is\", len(result))\n",
      "C:\\Users\\shekh\\OneDrive\\Desktop\\VT courses\\AI tools\\CS5914\\module2\\venv\\lib\\site-packages\\sklearn\\metrics\\_classification.py:1497: UndefinedMetricWarning: Precision is ill-defined and being set to 0.0 in labels with no predicted samples. Use `zero_division` parameter to control this behavior.\n",
      "  _warn_prf(average, modifier, f\"{metric.capitalize()} is\", len(result))\n",
      "C:\\Users\\shekh\\OneDrive\\Desktop\\VT courses\\AI tools\\CS5914\\module2\\venv\\lib\\site-packages\\sklearn\\metrics\\_classification.py:1497: UndefinedMetricWarning: Precision is ill-defined and being set to 0.0 in labels with no predicted samples. Use `zero_division` parameter to control this behavior.\n",
      "  _warn_prf(average, modifier, f\"{metric.capitalize()} is\", len(result))\n"
     ]
    }
   ],
   "source": [
    "import pandas as pd\n",
    "import glob\n",
    "from sklearn.model_selection import train_test_split\n",
    "from sklearn.feature_extraction.text import TfidfVectorizer\n",
    "from sklearn.svm import SVC\n",
    "import joblib\n",
    "import time\n",
    "from sklearn.metrics import accuracy_score, classification_report\n",
    "\n",
    "def load_data_files():\n",
    "    file_list = glob.glob('data/datasets/train-00000-5k*.parquet')\n",
    "    merged_data = pd.DataFrame()\n",
    "    measurements_list=[]\n",
    "    for i, file in enumerate(file_list):\n",
    "        \n",
    "        data = pd.read_parquet(file)\n",
    "        merged_data = pd.concat([merged_data, data])\n",
    "        measurements= learn(merged_data, i)\n",
    "        measurements_list.append(measurements)\n",
    "    return measurements_list\n",
    "        \n",
    "def learn(dataframe, file_index):\n",
    "    \n",
    "    # Extract code snippets and labels\n",
    "    code_snippets = dataframe['code']\n",
    "    labels = dataframe['language']\n",
    "    \n",
    "    # Split code snippets and labels into training and test sets\n",
    "    X_train, X_test, y_train, y_test = train_test_split(code_snippets, labels, test_size=0.2, random_state=42)\n",
    "    \n",
    "    # Create TF-IDF vectorizer\n",
    "    vectorizer = TfidfVectorizer()\n",
    "    \n",
    "    # Learn vocabulary and idf, and return term-document matrix for training data\n",
    "    X_train_tfidf = vectorizer.fit_transform(X_train)\n",
    "    \n",
    "    # Transform test data to document-term matrix\n",
    "    X_test_tfidf = vectorizer.transform(X_test)\n",
    "    \n",
    "    # Create SVM classifier\n",
    "    svm_classifier = SVC()\n",
    "    \n",
    "    # Train the classifier using the training data\n",
    "    start_time = time.time()\n",
    "    svm_classifier.fit(X_train_tfidf, y_train)\n",
    "    end_time = time.time()\n",
    "    \n",
    "    train_time = end_time - start_time\n",
    "    \n",
    "    # Save the model to a file\n",
    "    model_file = f\"svm_model_{file_index}.joblib\"\n",
    "    joblib.dump(svm_classifier, model_file)\n",
    "    \n",
    "    # Load the model from the file\n",
    "    loaded_model = joblib.load(model_file)\n",
    "    # Use the classifier to predict the labels for the test data\n",
    "    start_time = time.time()\n",
    "    y_pred = loaded_model.predict(X_test_tfidf)\n",
    "    end_time = time.time()\n",
    "    \n",
    "    predict_time = end_time - start_time\n",
    "    accuracy = accuracy_score(y_test, y_pred)\n",
    "    \n",
    "    # Calculate the classification report\n",
    "    classification_report_dict = classification_report(y_test, y_pred, output_dict=True)\n",
    "    \n",
    "    # Create a dictionary to store the measurements\n",
    "    measurements = {\n",
    "        'train': train_time,\n",
    "        'predict': predict_time,\n",
    "        'report': classification_report_dict,\n",
    "        'accuracy': accuracy\n",
    "    }\n",
    "    # Your further learning algorithm implementation goes here\n",
    "    # You can use loaded_model, X_test_tfidf, y_test for testing\n",
    "    \n",
    "    # Example implementation\n",
    "    print(f\"Learning from file {file_index}:\")\n",
    "    print(\"Training set:\")\n",
    "    print(X_train_tfidf.shape)\n",
    "    print(y_train.head())\n",
    "    print(\"Test set:\")\n",
    "    print(X_test_tfidf.shape)\n",
    "    print(y_test.head())\n",
    "    # Print the predicted labels\n",
    "    print(\"Predicted labels:\")\n",
    "    # print(y_pred.head())\n",
    "    print(y_pred[:5]) \n",
    "    return measurements\n",
    "\n",
    "# Call the load_data_files function to start the process\n",
    "measurements_list= load_data_files()\n",
    "print(measurements_list)"
   ],
   "metadata": {
    "collapsed": false,
    "ExecuteTime": {
     "end_time": "2024-01-30T05:47:47.143597700Z",
     "start_time": "2024-01-30T05:26:50.580202600Z"
    }
   },
   "id": "ff1af865f9a76790"
  },
  {
   "cell_type": "code",
   "execution_count": 49,
   "outputs": [
    {
     "data": {
      "text/plain": "<Figure size 640x480 with 1 Axes>",
      "image/png": "[encoded data removed]"
     },
     "metadata": {},
     "output_type": "display_data"
    }
   ],
   "source": [
    "import matplotlib.pyplot as plt\n",
    "indices = [i for i in range(len(measurements_list))]\n",
    "train_times = [measurements['train'] for measurements in measurements_list]\n",
    "predict_times = [measurements['predict'] for measurements in measurements_list]\n",
    "accuracies = [measurements['accuracy']*100 for measurements in measurements_list]\n",
    "\n",
    "plt.plot(indices, train_times, label='Train Time')\n",
    "plt.plot(indices, predict_times, label='Predict Time')\n",
    "plt.plot(indices, accuracies, label='Accuracy')\n",
    "\n",
    "plt.xlabel('Index')\n",
    "plt.ylabel('Time / Accuracy')\n",
    "plt.title('Supervised Learning Measurements')\n",
    "plt.legend()\n",
    "\n",
    "plt.savefig('supervised-plotter.png')\n",
    "plt.show()"
   ],
   "metadata": {
    "collapsed": false,
    "ExecuteTime": {
     "end_time": "2024-01-30T13:17:31.322795800Z",
     "start_time": "2024-01-30T13:17:27.974270Z"
    }
   },
   "id": "3992f8f1bd1bafe4"
  },
  {
   "cell_type": "code",
   "execution_count": 48,
   "outputs": [
    {
     "name": "stdout",
     "output_type": "stream",
     "text": [
      "Train time= 20.572086095809937\n",
      "predict time= 1.6904053688049316\n",
      "accuracy= 0.818\n",
      "Train time= 87.62093949317932\n",
      "predict time= 8.460706233978271\n",
      "accuracy= 0.8255\n",
      "Train time= 189.48909378051758\n",
      "predict time= 18.955503940582275\n",
      "accuracy= 0.8603333333333333\n",
      "Train time= 327.3161642551422\n",
      "predict time= 36.894771337509155\n",
      "accuracy= 0.86925\n",
      "Train time= 480.023029088974\n",
      "predict time= 61.04737854003906\n",
      "accuracy= 0.878\n"
     ]
    }
   ],
   "source": [
    "for measure in measurements_list:\n",
    "    print(f\"Train time= {measure['train']}\")\n",
    "    print(f\"predict time= {measure['predict']}\")       \n",
    "    print(f\"accuracy= {measure['accuracy']}\")"
   ],
   "metadata": {
    "collapsed": false,
    "ExecuteTime": {
     "end_time": "2024-01-30T13:12:50.481797300Z",
     "start_time": "2024-01-30T13:12:50.464854Z"
    }
   },
   "id": "3840caba1551f470"
  },
  {
   "cell_type": "code",
   "execution_count": null,
   "outputs": [],
   "source": [],
   "metadata": {
    "collapsed": false
   },
   "id": "959f2217f447ffbf"
  }
 ],
 "metadata": {
  "kernelspec": {
   "display_name": "Python 3",
   "language": "python",
   "name": "python3"
  },
  "language_info": {
   "codemirror_mode": {
    "name": "ipython",
    "version": 2
   },
   "file_extension": ".py",
   "mimetype": "text/x-python",
   "name": "python",
   "nbconvert_exporter": "python",
   "pygments_lexer": "ipython2",
   "version": "2.7.6"
  }
 },
 "nbformat": 4,
 "nbformat_minor": 5
}
