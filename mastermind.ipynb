{
 "cells": [
  {
   "cell_type": "markdown",
   "metadata": {},
   "source": [
    "To establish your OpenAI connection, run the first two cells.\n",
    "<br>\n",
    "To export your chat:\n",
    "* use File | Download As and\n",
    "  * choose Jupyter Notebook format (.ipynb) or\n",
    "  * choose Markdown format (.md) depending on your needs."
   ]
  },
  {
   "cell_type": "code",
   "execution_count": 10,
   "metadata": {
    "ExecuteTime": {
     "end_time": "2024-02-06T23:29:48.130395200Z",
     "start_time": "2024-02-06T23:29:48.109466100Z"
    }
   },
   "outputs": [],
   "source": [
    "from openai import OpenAI\n",
    "\n",
    "client = OpenAI(\n",
    "    # This is the default and can be omitted\n",
    "\tbase_url = 'http://aitools.cs.vt.edu:7860/openai/v1',\n",
    "    api_key=\"aitools\"\n",
    ")\n"
   ]
  },
  {
   "cell_type": "code",
   "execution_count": 11,
   "metadata": {
    "ExecuteTime": {
     "end_time": "2024-02-06T23:29:48.488059100Z",
     "start_time": "2024-02-06T23:29:48.467127300Z"
    }
   },
   "outputs": [],
   "source": [
    "\n",
    "def get_completion(prompt, model=\"gpt-3.5-turbo\"):\n",
    "\tmessages = [{\"role\": \"user\", \"content\": prompt}]\n",
    "\n",
    "\tresponse = client.chat.completions.create(\n",
    "                messages=messages,\n",
    "                model=model,\n",
    "                max_tokens=1000,\n",
    "\t\t        temperature=0)  # this is the degree of randomness of the model's output\n",
    "\t\n",
    "\treturn response.choices[0].message.content\n",
    "\n",
    "def converse(prompt, messages=None, model=\"gpt-3.5-turbo\", max_tokens=500, temperature=0, top_p=1, frequency_penalty=0,\n",
    "\t\t\t presence_penalty=0):\n",
    "    # Add the user's message to the list of messages\n",
    "    if messages is None:\n",
    "        messages = []\n",
    "\n",
    "    messages.append({\"role\": \"user\", \"content\": prompt})\n",
    "\n",
    "    response = client.chat.completions.create(\n",
    "                model=model,\n",
    "\t\tmessages=messages,\n",
    "\t\ttemperature=temperature,\n",
    "\t\tmax_tokens=max_tokens,\n",
    "\t\ttop_p=top_p,\n",
    "\t\tfrequency_penalty=frequency_penalty,\n",
    "\t\tpresence_penalty=presence_penalty).choices[0].message.content\n",
    "\n",
    "    # Add the assistant's message to the list of messages\n",
    "    messages.append({\"role\": \"assistant\", \"content\": response})\n",
    "\n",
    "    return response, messages\n",
    "\n"
   ]
  },
  {
   "cell_type": "markdown",
   "metadata": {},
   "source": [
    "## Play game where you get two answers incorrect on purpose\n",
    "\n",
    "One incorrect answer should be after \"passing\" on the question initially, the other incorrect answer should be provided directly without passing.  Make sure you can get 4 from 6 scored correctly.  Make sure one wrong answer is in the specialty round, and the other is in the general knowledge round."
   ]
  },
  {
   "cell_type": "markdown",
   "metadata": {},
   "source": []
  },
  {
   "cell_type": "markdown",
   "source": [],
   "metadata": {
    "collapsed": false
   }
  },
  {
   "cell_type": "code",
   "execution_count": 16,
   "outputs": [
    {
     "name": "stdout",
     "output_type": "stream",
     "text": [
      "I understand the rules of the game Mastermind. There are two participants, a contestant and a quizmaster. I will act as the quizmaster. There will be a total of two rounds. I will not start playing the game until you say \"START PLAY.\" After each round, I will show the score. The game rules are as follows:\n",
      "\n",
      "- Once the contestant gives the wrong answer, move to the next question and mark it as a wrong answer.\n",
      "- The contestant can say \"pass\" and come back to that question after all other questions in the same round are asked.\n",
      "\n",
      "In the first round, called the \"special topic\" round, the quizmaster asks the contestant for a topic of specialty. Once the contestant requests a specialized topic, the quizmaster generates 3 questions on that topic and asks the questions one at a time. The quizmaster adjudicates and tracks how many answers were correct and displays and stores the score. At the end of the \"special topic\" round, the contestant is given a score out of 3, which is displayed.\n",
      "\n",
      "In the last round, called the \"general topic\" round, the quizmaster asks 3 general trivia questions from \"safe for work\" topic areas, one question at a time. The quizmaster adjudicates and tracks how many answers were correct and displays and stores the score.\n",
      "\n",
      "At the end of the game, I will print both scores in the proper format.\n"
     ]
    }
   ],
   "source": [
    "prompt = \"\"\"\n",
    "-I want to teach you a game called Mastermind.\n",
    "-There are two participants, a contestant and an quizmaster.\n",
    "-You are to act as quizmaster.\n",
    "- There will be total two round.\n",
    "-Do not start playing the game until I say \"START PLAY\" and in response now please concisely indicate your understanding of these rules.\n",
    "- when i say 'START PLAY', you will start talking with contestant.\n",
    "-After each round show the score.\n",
    "\n",
    "- Game Rules is listed in between back tick\n",
    "`\n",
    "    -Once the contestant gives the wrong answer, move to next question and mark it as wrong answer\n",
    "    -The contestant can say \"pass\" and come back to that question after all other questions in the same round are asked.\n",
    "`\n",
    "- In first round consider information from below back tick box\n",
    "` \n",
    "    -First round name is 'special topic'\n",
    "    -The quizmaster asks the contestant for a topic of specialty\n",
    "    -Once the contestant requests a specialized topic, the quizmaster generates 3 questions on that topic and ask the questions One at a time.\n",
    "    -the quizmaster asks the questions, and adjudicates and tracks how many answers were correct. Display and store score to show score after the game is over.\n",
    "    -At the end of the \"special topic\" round, the contestant is given a score out of 3. and display the score\n",
    "`\n",
    "- In last round consider information from below back tick box\n",
    "`\n",
    "    -The final round is called the \"general topic\" round.\n",
    "    -the quizmaster asks 3 general trivia questions from \"safe for work\" topic areas, one question at a time\n",
    "    -the quizmaster asks the questions, and adjudicates and tracks how many answers were correct. Display and store score to show score after the game is over.   \n",
    "`\n",
    "- print both the score at the end in proper format. \n",
    "\"\"\"\n",
    "response, messages = converse(prompt, [])\n",
    "print(response)"
   ],
   "metadata": {
    "collapsed": false,
    "ExecuteTime": {
     "end_time": "2024-02-07T00:17:37.820040400Z",
     "start_time": "2024-02-07T00:17:33.207107900Z"
    }
   }
  },
  {
   "cell_type": "code",
   "execution_count": 17,
   "outputs": [
    {
     "name": "stdout",
     "output_type": "stream",
     "text": [
      "Contestant: START PLAY\n",
      "Quizmaster says: Great! Let's begin the game. \n",
      "\n",
      "For the first round, please provide me with a topic of specialty that you would like to be quizzed on.\n"
     ]
    }
   ],
   "source": [
    "prompt ='START PLAY'\n",
    "response, messages = converse(prompt, messages)\n",
    "print(f\"Contestant: {prompt}\\nQuizmaster says: {response}\")"
   ],
   "metadata": {
    "collapsed": false,
    "ExecuteTime": {
     "end_time": "2024-02-07T00:17:39.162679100Z",
     "start_time": "2024-02-07T00:17:38.425480900Z"
    }
   }
  },
  {
   "cell_type": "code",
   "execution_count": 18,
   "outputs": [
    {
     "name": "stdout",
     "output_type": "stream",
     "text": [
      "Contestant: Computer Science\n",
      "Quizmaster says: Great choice! Here is your first question:\n",
      "\n",
      "Question 1: What is the purpose of an operating system?\n",
      "\n",
      "Please provide your answer.\n"
     ]
    }
   ],
   "source": [
    "prompt ='Computer Science'\n",
    "response, messages = converse(prompt, messages)\n",
    "print(f\"Contestant: {prompt}\\nQuizmaster says: {response}\")"
   ],
   "metadata": {
    "collapsed": false,
    "ExecuteTime": {
     "end_time": "2024-02-07T00:17:47.632280700Z",
     "start_time": "2024-02-07T00:17:46.873793200Z"
    }
   }
  },
  {
   "cell_type": "code",
   "execution_count": 19,
   "outputs": [
    {
     "name": "stdout",
     "output_type": "stream",
     "text": [
      "Contestant: Pass\n",
      "Quizmaster says: Alright, we will come back to this question later. Here is your second question:\n",
      "\n",
      "Question 2: What is the difference between a compiler and an interpreter?\n",
      "\n",
      "Please provide your answer.\n"
     ]
    }
   ],
   "source": [
    "prompt ='Pass'\n",
    "response, messages = converse(prompt, messages)\n",
    "print(f\"Contestant: {prompt}\\nQuizmaster says: {response}\")"
   ],
   "metadata": {
    "collapsed": false,
    "ExecuteTime": {
     "end_time": "2024-02-07T00:17:59.019439500Z",
     "start_time": "2024-02-07T00:17:57.952050Z"
    }
   }
  },
  {
   "cell_type": "code",
   "execution_count": 20,
   "outputs": [
    {
     "name": "stdout",
     "output_type": "stream",
     "text": [
      "Contestant: compiler stores the data interpreter also stores the data\n",
      "\n",
      "Quizmaster says: I'm sorry, but that is not the correct answer. Let's move on to the next question.\n",
      "\n",
      "Question 3: What is the role of a cache memory in a computer system?\n",
      "\n",
      "Please provide your answer.\n"
     ]
    }
   ],
   "source": [
    "prompt ='compiler stores the data interpreter also stores the data'\n",
    "response, messages = converse(prompt, messages)\n",
    "print(f\"Contestant: {prompt}\\n\\nQuizmaster says: {response}\")"
   ],
   "metadata": {
    "collapsed": false,
    "ExecuteTime": {
     "end_time": "2024-02-07T00:21:25.352942700Z",
     "start_time": "2024-02-07T00:21:24.489167Z"
    }
   }
  },
  {
   "cell_type": "code",
   "execution_count": 21,
   "outputs": [
    {
     "name": "stdout",
     "output_type": "stream",
     "text": [
      "Contestant: Cache memory in a computer system serves to temporarily store frequently accessed data and instructions, reducing the time it takes to access them from the slower main memory.\n",
      "\n",
      "Quizmaster says: That is correct! Well done. Now, let's go back to the first question that you passed earlier.\n",
      "\n",
      "Question 1: What is the purpose of an operating system?\n",
      "\n",
      "Please provide your answer.\n"
     ]
    }
   ],
   "source": [
    "prompt ='Cache memory in a computer system serves to temporarily store frequently accessed data and instructions, reducing the time it takes to access them from the slower main memory.'\n",
    "response, messages = converse(prompt, messages)\n",
    "print(f\"Contestant: {prompt}\\n\\nQuizmaster says: {response}\")"
   ],
   "metadata": {
    "collapsed": false,
    "ExecuteTime": {
     "end_time": "2024-02-07T00:24:25.722724300Z",
     "start_time": "2024-02-07T00:24:24.758382600Z"
    }
   }
  },
  {
   "cell_type": "code",
   "execution_count": 22,
   "outputs": [
    {
     "name": "stdout",
     "output_type": "stream",
     "text": [
      "Contestant: The purpose of an operating system is to manage computer hardware and software resources, providing a stable and efficient platform for user applications to run.\n",
      "\n",
      "Quizmaster says: That is absolutely correct! Well done. \n",
      "\n",
      "Now, let's move on to the second round, the \"general topic\" round. I will ask you three general trivia questions from \"safe for work\" topic areas. Here is your first question:\n",
      "\n",
      "Question 1: Who painted the Mona Lisa?\n",
      "\n",
      "Please provide your answer.\n"
     ]
    }
   ],
   "source": [
    "prompt ='The purpose of an operating system is to manage computer hardware and software resources, providing a stable and efficient platform for user applications to run.'\n",
    "response, messages = converse(prompt, messages)\n",
    "print(f\"Contestant: {prompt}\\n\\nQuizmaster says: {response}\")"
   ],
   "metadata": {
    "collapsed": false,
    "ExecuteTime": {
     "end_time": "2024-02-07T00:24:59.150338500Z",
     "start_time": "2024-02-07T00:24:57.175895700Z"
    }
   }
  },
  {
   "cell_type": "code",
   "execution_count": 23,
   "outputs": [
    {
     "name": "stdout",
     "output_type": "stream",
     "text": [
      "Contestant: The famous artwork \"Mona Lisa\" was painted by Shekhar Kumar\n",
      "\n",
      "Quizmaster says: I'm sorry, but that is not the correct answer. Let's move on to the next question.\n",
      "\n",
      "Question 2: What is the capital city of France?\n",
      "\n",
      "Please provide your answer.\n"
     ]
    }
   ],
   "source": [
    "prompt ='The famous artwork \"Mona Lisa\" was painted by Shekhar Kumar'\n",
    "response, messages = converse(prompt, messages)\n",
    "print(f\"Contestant: {prompt}\\n\\nQuizmaster says: {response}\")"
   ],
   "metadata": {
    "collapsed": false,
    "ExecuteTime": {
     "end_time": "2024-02-07T00:25:49.744598200Z",
     "start_time": "2024-02-07T00:25:46.772472800Z"
    }
   }
  },
  {
   "cell_type": "code",
   "execution_count": 24,
   "outputs": [
    {
     "name": "stdout",
     "output_type": "stream",
     "text": [
      "Contestant: The capital city of France is Paris.\n",
      "\n",
      "Quizmaster says: That is correct! Well done. Now, let's move on to the final question of the game.\n",
      "\n",
      "Question 3: Who wrote the novel \"Pride and Prejudice\"?\n",
      "\n",
      "Please provide your answer.\n"
     ]
    }
   ],
   "source": [
    "prompt ='The capital city of France is Paris.'\n",
    "response, messages = converse(prompt, messages)\n",
    "print(f\"Contestant: {prompt}\\n\\nQuizmaster says: {response}\")"
   ],
   "metadata": {
    "collapsed": false,
    "ExecuteTime": {
     "end_time": "2024-02-07T00:26:32.864214600Z",
     "start_time": "2024-02-07T00:26:31.680686Z"
    }
   }
  },
  {
   "cell_type": "code",
   "execution_count": 25,
   "outputs": [
    {
     "name": "stdout",
     "output_type": "stream",
     "text": [
      "Contestant: \"Pride and Prejudice\" was written by Jane Austen.\n",
      "\n",
      "Quizmaster says: That is absolutely correct! Well done.\n",
      "\n",
      "Now that both rounds are complete, let's calculate and display your final score.\n",
      "\n",
      "In the \"special topic\" round, you scored 2 out of 3.\n",
      "\n",
      "In the \"general topic\" round, you scored 2 out of 3.\n",
      "\n",
      "Therefore, your total score is 4 out of 6.\n",
      "\n",
      "Congratulations on playing the game! Thank you for participating.\n"
     ]
    }
   ],
   "source": [
    "prompt ='\"Pride and Prejudice\" was written by Jane Austen.'\n",
    "response, messages = converse(prompt, messages)\n",
    "print(f\"Contestant: {prompt}\\n\\nQuizmaster says: {response}\")"
   ],
   "metadata": {
    "collapsed": false,
    "ExecuteTime": {
     "end_time": "2024-02-07T00:27:13.371488600Z",
     "start_time": "2024-02-07T00:27:11.220504200Z"
    }
   }
  },
  {
   "cell_type": "code",
   "execution_count": null,
   "outputs": [],
   "source": [],
   "metadata": {
    "collapsed": false
   }
  }
 ],
 "metadata": {
  "kernelspec": {
   "display_name": "Python 3 (ipykernel)",
   "language": "python",
   "name": "python3"
  },
  "language_info": {
   "codemirror_mode": {
    "name": "ipython",
    "version": 3
   },
   "file_extension": ".py",
   "mimetype": "text/x-python",
   "name": "python",
   "nbconvert_exporter": "python",
   "pygments_lexer": "ipython3",
   "version": "3.9.17"
  }
 },
 "nbformat": 4,
 "nbformat_minor": 1
}
