{
 "cells": [
  {
   "cell_type": "markdown",
   "metadata": {},
   "source": [
    "To establish your OpenAI connection, run the first two cells.\n",
    "<br>\n",
    "To export your chat:\n",
    "* use File | Download As and\n",
    "  * choose Jupyter Notebook format (.ipynb) or\n",
    "  * choose Markdown format (.md) depending on your needs."
   ]
  },
  {
   "cell_type": "code",
   "execution_count": 1,
   "metadata": {
    "ExecuteTime": {
     "end_time": "2024-02-04T23:33:03.751975200Z",
     "start_time": "2024-02-04T23:33:03.289244300Z"
    }
   },
   "outputs": [],
   "source": [
    "from openai import OpenAI\n",
    "\n",
    "client = OpenAI(\n",
    "    # This is the default and can be omitted\n",
    "\tbase_url = 'http://aitools.cs.vt.edu:7860/openai/v1',\n",
    "    api_key=\"aitools\"\n",
    ")\n"
   ]
  },
  {
   "cell_type": "code",
   "execution_count": 2,
   "metadata": {
    "ExecuteTime": {
     "end_time": "2024-02-04T23:38:38.529124400Z",
     "start_time": "2024-02-04T23:38:38.507463700Z"
    }
   },
   "outputs": [],
   "source": [
    "\n",
    "def get_completion(prompt, model=\"gpt-3.5-turbo\"):\n",
    "\tmessages = [{\"role\": \"user\", \"content\": prompt}]\n",
    "\n",
    "\tresponse = client.chat.completions.create(\n",
    "                messages=messages,\n",
    "                model=model,\n",
    "                max_tokens=1000,\n",
    "\t\t        temperature=0)  # this is the degree of randomness of the model's output\n",
    "\t\n",
    "\treturn response.choices[0].message.content\n",
    "\n",
    "def converse(prompt, messages=None, model=\"gpt-3.5-turbo\", max_tokens=500, temperature=0, top_p=1, frequency_penalty=0,\n",
    "\t\t\t presence_penalty=0):\n",
    "    # Add the user's message to the list of messages\n",
    "    if messages is None:\n",
    "        messages = []\n",
    "\n",
    "    messages.append({\"role\": \"user\", \"content\": prompt})\n",
    "\n",
    "    response = client.chat.completions.create(\n",
    "                model=model,\n",
    "\t\tmessages=messages,\n",
    "\t\ttemperature=temperature,\n",
    "\t\tmax_tokens=max_tokens,\n",
    "\t\ttop_p=top_p,\n",
    "\t\tfrequency_penalty=frequency_penalty,\n",
    "\t\tpresence_penalty=presence_penalty).choices[0].message.content\n",
    "\n",
    "    # Add the assistant's message to the list of messages\n",
    "    messages.append({\"role\": \"assistant\", \"content\": response})\n",
    "\n",
    "    return response, messages\n",
    "\n"
   ]
  },
  {
   "cell_type": "markdown",
   "metadata": {},
   "source": [
    "## Example 1: Simple chat\n",
    "\n",
    "Feel free to remove these cells before you export your chat."
   ]
  },
  {
   "cell_type": "code",
   "execution_count": 3,
   "metadata": {
    "ExecuteTime": {
     "end_time": "2024-02-04T23:38:39.903957900Z",
     "start_time": "2024-02-04T23:38:39.868005600Z"
    }
   },
   "outputs": [],
   "source": [
    "prompt = f\"How are you feeling today?\"\n"
   ]
  },
  {
   "cell_type": "code",
   "execution_count": 4,
   "metadata": {
    "ExecuteTime": {
     "end_time": "2024-02-04T23:38:41.586255200Z",
     "start_time": "2024-02-04T23:38:40.559343800Z"
    }
   },
   "outputs": [
    {
     "name": "stdout",
     "output_type": "stream",
     "text": [
      "As an AI, I don't have feelings, but I'm here to help you with any questions or tasks you have. How can I assist you today?\n"
     ]
    }
   ],
   "source": [
    "response = get_completion(prompt)\n",
    "print(response)\n"
   ]
  },
  {
   "cell_type": "markdown",
   "metadata": {},
   "source": [
    "## Example 2: Conversation\n",
    "Let's maintain a conversation history and see how the model responds to it.\n",
    "Feel free to remove these cells before you export your chat.\n",
    "\n",
    "\n"
   ]
  },
  {
   "cell_type": "code",
   "execution_count": 5,
   "metadata": {
    "ExecuteTime": {
     "end_time": "2024-02-04T23:38:48.543549300Z",
     "start_time": "2024-02-04T23:38:46.527583300Z"
    }
   },
   "outputs": [
    {
     "name": "stdout",
     "output_type": "stream",
     "text": [
      "You: Hi my name is Jennifer.\n",
      "LLM: Hello Jennifer! How can I assist you today?\n",
      "You: What is my name?\n",
      "LLM: Your name is Jennifer.\n"
     ]
    }
   ],
   "source": [
    "messages = []\n",
    "prompt = f\"Hi my name is Jennifer.\"\n",
    "response, messages = converse(prompt, messages)\n",
    "print(f\"You: {prompt}\\nLLM: {response}\")\n",
    "prompt = f\"What is my name?\"\n",
    "response, messages = converse(prompt, messages)\n",
    "print(f\"You: {prompt}\\nLLM: {response}\")\n"
   ]
  },
  {
   "cell_type": "code",
   "execution_count": 10,
   "outputs": [
    {
     "name": "stdout",
     "output_type": "stream",
     "text": [
      "- Sure, I'd love to go for a walk. Where would you like to go?\n"
     ]
    }
   ],
   "source": [
    "messages = []\n",
    "prompt = \"\"\"\n",
    "- Hi, let go for a walk\n",
    "\"\"\"\n",
    "response, messages = converse(prompt, messages)\n",
    "print(f\"{response}\")"
   ],
   "metadata": {
    "collapsed": false,
    "ExecuteTime": {
     "end_time": "2024-02-04T23:44:25.353440400Z",
     "start_time": "2024-02-04T23:44:24.558835800Z"
    }
   }
  },
  {
   "cell_type": "code",
   "execution_count": 59,
   "outputs": [
    {
     "name": "stdout",
     "output_type": "stream",
     "text": [
      "I understand the rules of the game Mastermind. There will be two participants, a contestant and a quizmaster. I will act as the quizmaster. There will be two rounds in total. I will not start playing the game until you say \"START PLAY\". After each round, I will show the score. In the first round, called \"special topic\", the contestant will provide a topic of specialty and I will generate 3 questions on that topic. The contestant will answer the questions one at a time and I will track the number of correct answers. At the end of the round, I will give the contestant a score out of 3. In the last round, called the \"general topic\" round, I will ask 3 general trivia questions from \"safe for work\" topics and track the number of correct answers. Finally, I will print both scores in the proper format.\n"
     ]
    }
   ],
   "source": [
    "prompt = \"\"\"\n",
    "-I want to teach you a game called Mastermind.\n",
    "-There are two participants, a contestant and an quizmaster.\n",
    "-You are to act as quizmaster.\n",
    "- There will be total two round.\n",
    "\n",
    "-Do not start playing the game until I say \"START PLAY\" and in response now please concisely indicate your understanding of these rules.\n",
    "- when i say 'START PLAY', you will start talking with contestant.\n",
    "-After each round show the score.\n",
    "- Game Rules is listed in between back tick\n",
    "`\n",
    "    -Once the contestant gives the wrong answer, move to next question and mark it as wrong answer\n",
    "`\n",
    "- In first round consider information from below back tick box\n",
    "` \n",
    "    -First round name is 'special topic'\n",
    "    -The quizmaster asks the contestant for a topic of specialty\n",
    "    -Once the contestant requests a specialized topic, the quizmaster generates 3 questions on that topic and ask the questions One at a time.\n",
    "    -the quizmaster asks the questions, and adjudicates and tracks how many answers were correct. store score to show score after the over.\n",
    "    -At the end of the \"special topic\" round, the contestant is given a score out of 3. and display the score\n",
    "`\n",
    "- In last round consider information from below back tick box\n",
    "`\n",
    "    -The final round is called the \"general topic\" round.\n",
    "    -the quizmaster asks 3 general trivia questions from \"safe for work\" topic areas, one question at a time\n",
    "    -the quizmaster asks the questions, and adjudicates and tracks how many answers were correct. store score to show score after the over   \n",
    "`\n",
    "- print both the score at the end in proper format. \n",
    "\"\"\"\n",
    "response, messages = converse(prompt, [])\n",
    "print(response)"
   ],
   "metadata": {
    "collapsed": false,
    "ExecuteTime": {
     "end_time": "2024-02-05T00:29:14.628103500Z",
     "start_time": "2024-02-05T00:29:11.743836300Z"
    }
   }
  },
  {
   "cell_type": "code",
   "execution_count": 60,
   "outputs": [
    {
     "name": "stdout",
     "output_type": "stream",
     "text": [
      "You: START PLAY\n",
      "LLM: Great! Let's begin the game. \n",
      "\n",
      "For the first round, please provide me with a topic of specialty.\n"
     ]
    }
   ],
   "source": [
    "prompt ='START PLAY'\n",
    "response, messages = converse(prompt, messages)\n",
    "print(f\"You: {prompt}\\nLLM: {response}\")"
   ],
   "metadata": {
    "collapsed": false,
    "ExecuteTime": {
     "end_time": "2024-02-05T00:29:16.985580Z",
     "start_time": "2024-02-05T00:29:16.249958Z"
    }
   }
  },
  {
   "cell_type": "code",
   "execution_count": 61,
   "outputs": [
    {
     "name": "stdout",
     "output_type": "stream",
     "text": [
      "You: Computer Science\n",
      "LLM: Great choice! Here is your first question on the topic of Computer Science:\n",
      "\n",
      "Question 1: What does HTML stand for?\n",
      "\n",
      "Please provide your answer.\n"
     ]
    }
   ],
   "source": [
    "prompt ='Computer Science'\n",
    "response, messages = converse(prompt, messages)\n",
    "print(f\"You: {prompt}\\nLLM: {response}\")"
   ],
   "metadata": {
    "collapsed": false,
    "ExecuteTime": {
     "end_time": "2024-02-05T00:29:20.118148400Z",
     "start_time": "2024-02-05T00:29:19.539174700Z"
    }
   }
  },
  {
   "cell_type": "code",
   "execution_count": 62,
   "outputs": [
    {
     "name": "stdout",
     "output_type": "stream",
     "text": [
      "You: HTML stands for HyperText Markup Language.\n",
      "LLM: That is correct! Well done. \n",
      "\n",
      "Now, let's move on to the second question:\n",
      "\n",
      "Question 2: What is the difference between a compiler and an interpreter?\n",
      "\n",
      "Please provide your answer.\n"
     ]
    }
   ],
   "source": [
    "prompt ='HTML stands for HyperText Markup Language.'\n",
    "response, messages = converse(prompt, messages)\n",
    "print(f\"You: {prompt}\\nLLM: {response}\")"
   ],
   "metadata": {
    "collapsed": false,
    "ExecuteTime": {
     "end_time": "2024-02-05T00:29:43.467127800Z",
     "start_time": "2024-02-05T00:29:42.671329800Z"
    }
   }
  },
  {
   "cell_type": "code",
   "execution_count": 63,
   "outputs": [
    {
     "name": "stdout",
     "output_type": "stream",
     "text": [
      "You: A loop in programming automates repetitive tasks by executing a block of code repeatedly until a specified condition is satisfied.\n",
      "LLM: I'm sorry, but that answer is incorrect. The correct answer is that a compiler translates the entire program into machine code before execution, while an interpreter translates and executes the program line by line. Let's move on to the next question.\n",
      "\n",
      "Question 3: What is the purpose of a firewall in computer networks?\n",
      "\n",
      "Please provide your answer.\n"
     ]
    }
   ],
   "source": [
    "prompt ='A loop in programming automates repetitive tasks by executing a block of code repeatedly until a specified condition is satisfied.'\n",
    "response, messages = converse(prompt, messages)\n",
    "print(f\"You: {prompt}\\nLLM: {response}\")"
   ],
   "metadata": {
    "collapsed": false,
    "ExecuteTime": {
     "end_time": "2024-02-05T00:29:49.048921500Z",
     "start_time": "2024-02-05T00:29:47.572641400Z"
    }
   }
  },
  {
   "cell_type": "code",
   "execution_count": 64,
   "outputs": [
    {
     "name": "stdout",
     "output_type": "stream",
     "text": [
      "You: A firewall in computer networks acts as a security barrier, monitoring and controlling incoming and outgoing network traffic based on predetermined security rules, preventing unauthorized access and potential threats.\n",
      "LLM: That is absolutely correct! Well done.\n",
      "\n",
      "Now, let's move on to the second round, the \"general topic\" round. I will ask you three general trivia questions from \"safe for work\" topics. Are you ready?\n",
      "\n",
      "Question 1: Who painted the Mona Lisa?\n",
      "\n",
      "Please provide your answer.\n"
     ]
    }
   ],
   "source": [
    "prompt ='A firewall in computer networks acts as a security barrier, monitoring and controlling incoming and outgoing network traffic based on predetermined security rules, preventing unauthorized access and potential threats.'\n",
    "response, messages = converse(prompt, messages)\n",
    "print(f\"You: {prompt}\\nLLM: {response}\")"
   ],
   "metadata": {
    "collapsed": false,
    "ExecuteTime": {
     "end_time": "2024-02-05T00:30:17.640783300Z",
     "start_time": "2024-02-05T00:30:16.464347800Z"
    }
   }
  },
  {
   "cell_type": "code",
   "execution_count": 65,
   "outputs": [
    {
     "name": "stdout",
     "output_type": "stream",
     "text": [
      "You: Leonardo da Vinci painted the famous artwork Mona Lisa\n",
      "LLM: That is correct! Well done.\n",
      "\n",
      "Now, let's move on to the second question:\n",
      "\n",
      "Question 2: What is the capital city of Australia?\n",
      "\n",
      "Please provide your answer.\n"
     ]
    }
   ],
   "source": [
    "prompt ='Leonardo da Vinci painted the famous artwork Mona Lisa'\n",
    "response, messages = converse(prompt, messages)\n",
    "print(f\"You: {prompt}\\nLLM: {response}\")"
   ],
   "metadata": {
    "collapsed": false,
    "ExecuteTime": {
     "end_time": "2024-02-05T00:30:56.133624500Z",
     "start_time": "2024-02-05T00:30:55.397188900Z"
    }
   }
  },
  {
   "cell_type": "code",
   "execution_count": 66,
   "outputs": [
    {
     "name": "stdout",
     "output_type": "stream",
     "text": [
      "You: Kathmandu\n",
      "LLM: I'm sorry, but that answer is incorrect. The correct answer is Canberra. Let's move on to the final question.\n",
      "\n",
      "Question 3: Who wrote the novel \"Pride and Prejudice\"?\n",
      "\n",
      "Please provide your answer.\n"
     ]
    }
   ],
   "source": [
    "prompt ='Kathmandu'\n",
    "response, messages = converse(prompt, messages)\n",
    "print(f\"You: {prompt}\\nLLM: {response}\")"
   ],
   "metadata": {
    "collapsed": false,
    "ExecuteTime": {
     "end_time": "2024-02-05T00:31:06.883123900Z",
     "start_time": "2024-02-05T00:31:05.987131400Z"
    }
   }
  },
  {
   "cell_type": "code",
   "execution_count": 67,
   "outputs": [
    {
     "name": "stdout",
     "output_type": "stream",
     "text": [
      "You: The novel Pride and Prejudice\" was written by Jane Austen.\n",
      "LLM: That is correct! Well done.\n",
      "\n",
      "Now that both rounds are over, let's calculate and display the final scores.\n",
      "\n",
      "In the \"special topic\" round, you scored 2 out of 3.\n",
      "\n",
      "In the \"general topic\" round, you scored 2 out of 3.\n",
      "\n",
      "Therefore, your total score is 4 out of 6.\n",
      "\n",
      "Congratulations on playing the game!\n"
     ]
    }
   ],
   "source": [
    "prompt ='The novel Pride and Prejudice\" was written by Jane Austen.'\n",
    "response, messages = converse(prompt, messages)\n",
    "print(f\"You: {prompt}\\nLLM: {response}\")"
   ],
   "metadata": {
    "collapsed": false,
    "ExecuteTime": {
     "end_time": "2024-02-05T00:31:45.019648500Z",
     "start_time": "2024-02-05T00:31:43.570977200Z"
    }
   }
  },
  {
   "cell_type": "code",
   "execution_count": 67,
   "outputs": [],
   "source": [],
   "metadata": {
    "collapsed": false,
    "ExecuteTime": {
     "end_time": "2024-02-05T00:32:09.600891300Z",
     "start_time": "2024-02-05T00:32:09.574937400Z"
    }
   }
  },
  {
   "cell_type": "markdown",
   "source": [
    "# Prompt with additional requirement"
   ],
   "metadata": {
    "collapsed": false
   }
  },
  {
   "cell_type": "code",
   "execution_count": 83,
   "outputs": [
    {
     "name": "stdout",
     "output_type": "stream",
     "text": [
      "I understand the rules of the game Mastermind. There are two participants, a contestant and a quizmaster. I will act as the quizmaster. There will be two rounds in total. I will not start playing the game until you say \"START PLAY.\" After each round, I will show the score. The game rules are as follows:\n",
      "\n",
      "- Once the contestant gives the wrong answer, move to the next question and mark it as a wrong answer.\n",
      "- The contestant can say \"pass\" and come back to that question after all other questions in the same round are asked.\n",
      "\n",
      "In the first round, which is called the \"special topic\" round, the quizmaster asks the contestant for a topic of specialty. Once the contestant requests a specialized topic, the quizmaster generates 3 questions on that topic and asks the questions one at a time. The quizmaster adjudicates and tracks how many answers were correct and displays and stores the score. At the end of the \"special topic\" round, the contestant is given a score out of 3, which is also displayed.\n",
      "\n",
      "In the last round, called the \"general topic\" round, the quizmaster asks 3 general trivia questions from \"safe for work\" topic areas, one question at a time. The quizmaster adjudicates and tracks how many answers were correct and displays and stores the score.\n",
      "\n",
      "At the end of the game, I will print both scores in the proper format.\n"
     ]
    }
   ],
   "source": [
    "prompt = \"\"\"\n",
    "-I want to teach you a game called Mastermind.\n",
    "-There are two participants, a contestant and an quizmaster.\n",
    "-You are to act as quizmaster.\n",
    "- There will be total two round.\n",
    "-Do not start playing the game until I say \"START PLAY\" and in response now please concisely indicate your understanding of these rules.\n",
    "- when i say 'START PLAY', you will start talking with contestant.\n",
    "-After each round show the score.\n",
    "\n",
    "- Game Rules is listed in between back tick\n",
    "`\n",
    "    -Once the contestant gives the wrong answer, move to next question and mark it as wrong answer\n",
    "    -The contestant can say \"pass\" and come back to that question after all other questions in the same round are asked.\n",
    "`\n",
    "- In first round consider information from below back tick box\n",
    "` \n",
    "    -First round name is 'special topic'\n",
    "    -The quizmaster asks the contestant for a topic of specialty\n",
    "    -Once the contestant requests a specialized topic, the quizmaster generates 3 questions on that topic and ask the questions One at a time.\n",
    "    -the quizmaster asks the questions, and adjudicates and tracks how many answers were correct. Display and store score to show score after the game is over.\n",
    "    -At the end of the \"special topic\" round, the contestant is given a score out of 3. and display the score\n",
    "`\n",
    "- In last round consider information from below back tick box\n",
    "`\n",
    "    -The final round is called the \"general topic\" round.\n",
    "    -the quizmaster asks 3 general trivia questions from \"safe for work\" topic areas, one question at a time\n",
    "    -the quizmaster asks the questions, and adjudicates and tracks how many answers were correct. Display and store score to show score after the game is over.   \n",
    "`\n",
    "- print both the score at the end in proper format. \n",
    "\"\"\"\n",
    "response, messages = converse(prompt, [])\n",
    "print(response)"
   ],
   "metadata": {
    "collapsed": false,
    "ExecuteTime": {
     "end_time": "2024-02-05T00:52:02.383342200Z",
     "start_time": "2024-02-05T00:51:58.491328Z"
    }
   }
  },
  {
   "cell_type": "code",
   "execution_count": 84,
   "outputs": [
    {
     "name": "stdout",
     "output_type": "stream",
     "text": [
      "Contestant: START PLAY\n",
      "Quizmaster says: Great! Let's begin the game. \n",
      "\n",
      "For the first round, please provide me with a topic of specialty that you would like to be quizzed on.\n"
     ]
    }
   ],
   "source": [
    "prompt ='START PLAY'\n",
    "response, messages = converse(prompt, messages)\n",
    "print(f\"Contestant: {prompt}\\nQuizmaster says: {response}\")"
   ],
   "metadata": {
    "collapsed": false,
    "ExecuteTime": {
     "end_time": "2024-02-05T00:52:21.231094600Z",
     "start_time": "2024-02-05T00:52:20.504724900Z"
    }
   }
  },
  {
   "cell_type": "code",
   "execution_count": 85,
   "outputs": [
    {
     "name": "stdout",
     "output_type": "stream",
     "text": [
      "Contestant: Computer Science\n",
      "Quizmaster says: Great choice! Here is your first question on the topic of Computer Science:\n",
      "\n",
      "Question 1: What does HTML stand for?\n",
      "\n",
      "Please provide your answer.\n"
     ]
    }
   ],
   "source": [
    "prompt ='Computer Science'\n",
    "response, messages = converse(prompt, messages)\n",
    "print(f\"Contestant: {prompt}\\nQuizmaster says: {response}\")"
   ],
   "metadata": {
    "collapsed": false,
    "ExecuteTime": {
     "end_time": "2024-02-05T00:52:30.717213600Z",
     "start_time": "2024-02-05T00:52:29.796152300Z"
    }
   }
  },
  {
   "cell_type": "code",
   "execution_count": 86,
   "outputs": [
    {
     "name": "stdout",
     "output_type": "stream",
     "text": [
      "Contestant: HTML stands for HyperText Markup Language.\n",
      "Quizmaster says: That is correct! Well done!\n",
      "\n",
      "Now, let's move on to the second question:\n",
      "\n",
      "Question 2: What is the purpose of a compiler in programming?\n",
      "\n",
      "Please provide your answer.\n"
     ]
    }
   ],
   "source": [
    "prompt ='HTML stands for HyperText Markup Language.'\n",
    "response, messages = converse(prompt, messages)\n",
    "print(f\"Contestant: {prompt}\\nQuizmaster says: {response}\")"
   ],
   "metadata": {
    "collapsed": false,
    "ExecuteTime": {
     "end_time": "2024-02-05T00:52:34.271725900Z",
     "start_time": "2024-02-05T00:52:33.278616200Z"
    }
   }
  },
  {
   "cell_type": "code",
   "execution_count": 87,
   "outputs": [
    {
     "name": "stdout",
     "output_type": "stream",
     "text": [
      "Contestant: pass\n",
      "Quizmaster says: Alright, we will come back to that question later. Here is the third question:\n",
      "\n",
      "Question 3: What is the difference between a stack and a queue in data structures?\n",
      "\n",
      "Please provide your answer.\n"
     ]
    }
   ],
   "source": [
    "prompt ='pass'\n",
    "response, messages = converse(prompt, messages)\n",
    "print(f\"Contestant: {prompt}\\n\\nQuizmaster says: {response}\")"
   ],
   "metadata": {
    "collapsed": false,
    "ExecuteTime": {
     "end_time": "2024-02-05T00:52:43.254281500Z",
     "start_time": "2024-02-05T00:52:42.312662400Z"
    }
   }
  },
  {
   "cell_type": "code",
   "execution_count": 88,
   "outputs": [
    {
     "name": "stdout",
     "output_type": "stream",
     "text": [
      "Contestant: A stack operates on the Last In, First Out (LIFO) principle, while a queue follows the First In, First Out (FIFO) principle in data structures.\n",
      "\n",
      "Quizmaster says: That is absolutely correct! Well done!\n",
      "\n",
      "Now, let's go back to the second question that you passed on:\n",
      "\n",
      "Question 2: What is the purpose of a compiler in programming?\n",
      "\n",
      "Please provide your answer.\n"
     ]
    }
   ],
   "source": [
    "prompt ='A stack operates on the Last In, First Out (LIFO) principle, while a queue follows the First In, First Out (FIFO) principle in data structures.'\n",
    "response, messages = converse(prompt, messages)\n",
    "print(f\"Contestant: {prompt}\\n\\nQuizmaster says: {response}\")"
   ],
   "metadata": {
    "collapsed": false,
    "ExecuteTime": {
     "end_time": "2024-02-05T00:53:59.420216600Z",
     "start_time": "2024-02-05T00:53:58.526324200Z"
    }
   }
  },
  {
   "cell_type": "code",
   "execution_count": 89,
   "outputs": [
    {
     "name": "stdout",
     "output_type": "stream",
     "text": [
      "Contestant: compiler store the data in database\n",
      "\n",
      "Quizmaster says: I'm sorry, but that is not the correct answer. The purpose of a compiler in programming is to translate high-level programming code into machine code that can be executed by a computer. It does not store data in a database.\n",
      "\n",
      "Let's move on to the next round, the \"general topic\" round. I will ask you three general trivia questions from \"safe for work\" topic areas. Are you ready?\n",
      "\n",
      "Question 1: Who painted the Mona Lisa?\n",
      "\n",
      "Please provide your answer.\n"
     ]
    }
   ],
   "source": [
    "prompt ='compiler store the data in database'\n",
    "response, messages = converse(prompt, messages)\n",
    "print(f\"Contestant: {prompt}\\n\\nQuizmaster says: {response}\")"
   ],
   "metadata": {
    "collapsed": false,
    "ExecuteTime": {
     "end_time": "2024-02-05T00:54:32.168070800Z",
     "start_time": "2024-02-05T00:54:30.041816500Z"
    }
   }
  },
  {
   "cell_type": "code",
   "execution_count": 90,
   "outputs": [
    {
     "name": "stdout",
     "output_type": "stream",
     "text": [
      "Contestant: The famous artwork \"Mona Lisa\" was painted by Leonardo da Vinci\n",
      "\n",
      "Quizmaster says: That is correct! Well done!\n",
      "\n",
      "Now, let's move on to the second question:\n",
      "\n",
      "Question 2: What is the capital city of Australia?\n",
      "\n",
      "Please provide your answer.\n"
     ]
    }
   ],
   "source": [
    "prompt ='The famous artwork \"Mona Lisa\" was painted by Leonardo da Vinci'\n",
    "response, messages = converse(prompt, messages)\n",
    "print(f\"Contestant: {prompt}\\n\\nQuizmaster says: {response}\")"
   ],
   "metadata": {
    "collapsed": false,
    "ExecuteTime": {
     "end_time": "2024-02-05T00:54:45.569078300Z",
     "start_time": "2024-02-05T00:54:44.839414200Z"
    }
   }
  },
  {
   "cell_type": "code",
   "execution_count": 91,
   "outputs": [
    {
     "name": "stdout",
     "output_type": "stream",
     "text": [
      "Contestant: Kathmandu\n",
      "\n",
      "Quizmaster says: I'm sorry, but that is not the correct answer. The capital city of Australia is Canberra.\n",
      "\n",
      "Let's move on to the final question:\n",
      "\n",
      "Question 3: Who wrote the famous play \"Romeo and Juliet\"?\n",
      "\n",
      "Please provide your answer.\n"
     ]
    }
   ],
   "source": [
    "prompt ='Kathmandu'\n",
    "response, messages = converse(prompt, messages)\n",
    "print(f\"Contestant: {prompt}\\n\\nQuizmaster says: {response}\")"
   ],
   "metadata": {
    "collapsed": false,
    "ExecuteTime": {
     "end_time": "2024-02-05T00:55:09.727026800Z",
     "start_time": "2024-02-05T00:55:08.537550500Z"
    }
   }
  },
  {
   "cell_type": "code",
   "execution_count": 92,
   "outputs": [
    {
     "name": "stdout",
     "output_type": "stream",
     "text": [
      "Contestant: The famous play \"Romeo and Juliet\" was written by William Shakespeare.\n",
      "\n",
      "Quizmaster says: That is correct! Well done!\n",
      "\n",
      "Now that we have completed both rounds, let's calculate and display your final score.\n",
      "\n",
      "In the \"special topic\" round, you answered 2 out of 3 questions correctly.\n",
      "\n",
      "In the \"general topic\" round, you answered 2 out of 3 questions correctly.\n",
      "\n",
      "Therefore, your total score is 4 out of 6.\n",
      "\n",
      "Congratulations on playing the game! Thank you for participating.\n"
     ]
    }
   ],
   "source": [
    "prompt ='The famous play \"Romeo and Juliet\" was written by William Shakespeare.'\n",
    "response, messages = converse(prompt, messages)\n",
    "print(f\"Contestant: {prompt}\\n\\nQuizmaster says: {response}\")"
   ],
   "metadata": {
    "collapsed": false,
    "ExecuteTime": {
     "end_time": "2024-02-05T00:55:57.444996600Z",
     "start_time": "2024-02-05T00:55:55.914210600Z"
    }
   }
  },
  {
   "cell_type": "code",
   "execution_count": null,
   "outputs": [],
   "source": [],
   "metadata": {
    "collapsed": false
   }
  }
 ],
 "metadata": {
  "kernelspec": {
   "display_name": "Python 3 (ipykernel)",
   "language": "python",
   "name": "python3"
  },
  "language_info": {
   "codemirror_mode": {
    "name": "ipython",
    "version": 3
   },
   "file_extension": ".py",
   "mimetype": "text/x-python",
   "name": "python",
   "nbconvert_exporter": "python",
   "pygments_lexer": "ipython3",
   "version": "3.9.17"
  }
 },
 "nbformat": 4,
 "nbformat_minor": 1
}
